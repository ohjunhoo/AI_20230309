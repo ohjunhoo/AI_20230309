{
 "cells": [
  {
   "cell_type": "code",
   "execution_count": 8,
   "metadata": {},
   "outputs": [
    {
     "name": "stdout",
     "output_type": "stream",
     "text": [
      "*****\n"
     ]
    }
   ],
   "source": [
    "#사용자로 부터 값을 입력받아서 그 수 만큼 *를 프린트하기\n",
    "\n",
    "number = int(input())\n",
    "print(\"*\" * number)"
   ]
  },
  {
   "cell_type": "code",
   "execution_count": 1,
   "metadata": {},
   "outputs": [
    {
     "name": "stdout",
     "output_type": "stream",
     "text": [
      "15\n",
      "False\n"
     ]
    }
   ],
   "source": [
    "pset_time = 15\n",
    "sleep_time = 8\n",
    "\n",
    "\"\"\" \n",
    "sleep_time이 pset_time 보다 클 경우만 sleep_time을 출력하고,\n",
    "나머지는 pset_time을 출력하라\n",
    "\"\"\"\n",
    "if sleep_time > pset_time:\n",
    "    print(sleep_time)\n",
    "else:\n",
    "    print(pset_time)\n",
    "derive =True\n",
    "drink = False\n",
    "both = drink and derive\n",
    "\n",
    "print(both)"
   ]
  },
  {
   "cell_type": "code",
   "execution_count": 5,
   "metadata": {},
   "outputs": [
    {
     "name": "stdout",
     "output_type": "stream",
     "text": [
      "15\n"
     ]
    }
   ],
   "source": [
    "pset_time = 15\n",
    "sleep_time = 8\n",
    "\n",
    "print(sleep_time) if sleep_time > pset_time else print(pset_time)"
   ]
  },
  {
   "cell_type": "code",
   "execution_count": 8,
   "metadata": {},
   "outputs": [
    {
     "name": "stdout",
     "output_type": "stream",
     "text": [
      "x and y equal\n",
      "thanks\n"
     ]
    }
   ],
   "source": [
    "x = int(input())\n",
    "y = int(input())\n",
    "if x == y:\n",
    "    print(\"x and y equal\")\n",
    "    if y != 0:\n",
    "        print(\"therefore, x/y is\", x/y)\n",
    "elif x < y:\n",
    "    print(\"x is smaller\")\n",
    "else:\n",
    "    print(\"y is smaller\")\n",
    "print(\"thanks\")"
   ]
  },
  {
   "cell_type": "code",
   "execution_count": 10,
   "metadata": {},
   "outputs": [
    {
     "name": "stdout",
     "output_type": "stream",
     "text": [
      "5050\n"
     ]
    }
   ],
   "source": [
    "mysum =0\n",
    "for i in range(1,101):\n",
    "    mysum += i\n",
    "print(mysum)"
   ]
  },
  {
   "cell_type": "code",
   "execution_count": 21,
   "metadata": {},
   "outputs": [
    {
     "name": "stdout",
     "output_type": "stream",
     "text": [
      "10\n",
      "9\n",
      "8\n",
      "7\n",
      "6\n",
      "5\n",
      "4\n",
      "3\n",
      "2\n",
      "1\n",
      "0\n",
      "you failed to enter nonnegative number\n"
     ]
    }
   ],
   "source": [
    "# \n",
    "number = int(input())\n",
    "while number >= 0:\n",
    "    print(number)\n",
    "    number-=1\n",
    "    if number < 0:\n",
    "        print(\"you failed to enter nonnegative number\")\n",
    "        break\n",
    " \n",
    "    "
   ]
  },
  {
   "cell_type": "code",
   "execution_count": 5,
   "metadata": {},
   "outputs": [
    {
     "name": "stdout",
     "output_type": "stream",
     "text": [
      "H는 1번 자리에 있습니다\n",
      "e는 2번 자리에 있습니다\n",
      "l는 3번 자리에 있습니다\n",
      "l는 4번 자리에 있습니다\n",
      "o는 5번 자리에 있습니다\n",
      " 는 6번 자리에 있습니다\n",
      "w는 7번 자리에 있습니다\n",
      "o는 8번 자리에 있습니다\n",
      "r는 9번 자리에 있습니다\n",
      "l는 10번 자리에 있습니다\n",
      "d는 11번 자리에 있습니다\n"
     ]
    }
   ],
   "source": [
    "s = \"Hello world\"\n",
    "index=1\n",
    "for i in s:\n",
    "    print(\"{}는 {}번 자리에 있습니다\".format(i,index))\n",
    "    index+=1\n",
    "    "
   ]
  },
  {
   "cell_type": "code",
   "execution_count": 10,
   "metadata": {},
   "outputs": [
    {
     "name": "stdout",
     "output_type": "stream",
     "text": [
      "1\n",
      "3\n",
      "5\n",
      "7\n",
      "9\n",
      "=======\n",
      "0\n",
      "2\n",
      "4\n",
      "6\n",
      "8\n"
     ]
    }
   ],
   "source": [
    "for i in range(1,10,2):\n",
    "    print(i)\n",
    "print(\"=======\")\n",
    "for i in range(0,10,2):\n",
    "    print(i)"
   ]
  },
  {
   "cell_type": "code",
   "execution_count": 17,
   "metadata": {},
   "outputs": [
    {
     "name": "stdout",
     "output_type": "stream",
     "text": [
      "10\n",
      "10\n",
      "commom letter m,m\n",
      "commom letter i,i\n",
      "commom letter t,t\n",
      "commom letter  , \n",
      "commom letter u,u\n",
      "commom letter  , \n",
      "commom letter r,r\n"
     ]
    }
   ],
   "source": [
    "s1 =\"mit u rock\"\n",
    "s2 =\"i rule mit\"\n",
    "print(len(s1))\n",
    "print(len(s2))\n",
    "if len(s1) == len(s2):\n",
    "    for char1 in s1:\n",
    "        for char2 in s2:\n",
    "            if char1 == char2:\n",
    "                print(\"commom letter {},{}\".format(char1, char2))\n",
    "                break"
   ]
  },
  {
   "cell_type": "code",
   "execution_count": 9,
   "metadata": {},
   "outputs": [
    {
     "name": "stdout",
     "output_type": "stream",
     "text": [
      "10 is not a perfect cube\n"
     ]
    }
   ],
   "source": [
    "cube=int(input())\n",
    "\n",
    "for g in range(abs(cube)+1):\n",
    "    if g**3 >= abs(cube):\n",
    "        break\n",
    "if g**3 != abs(cube):\n",
    "    print(cube, 'is not a perfect cube')\n",
    "else:\n",
    "    if cube < 0:\n",
    "        g =-g\n",
    "        print(\"Cube root of\"+str(cube)+\"is\"+str(g))"
   ]
  },
  {
   "cell_type": "code",
   "execution_count": null,
   "metadata": {},
   "outputs": [],
   "source": [
    "cube = 0.008\n",
    "epsilon = 0.001\n",
    "g= 0.0\n",
    "increament = 0.0001\n",
    "num_g=0\n",
    "\n",
    "while abs(g**3-cube) >= epsilon and g <= cube:\n",
    "    g += increament\n",
    "    num_g +=1\n",
    "    print('num_g =', num_g)\n",
    "    print(abs(g**3-cube))\n",
    "if abs(g**3 - cube) >= epsilon:\n",
    "    print('Failed on cube root of', cube) \n",
    "else:\n",
    "    print(g, 'is close to the cube root of', cube)\n"
   ]
  },
  {
   "cell_type": "code",
   "execution_count": null,
   "metadata": {},
   "outputs": [],
   "source": [
    "#3개의 배열에서 3개의 요소(각각 배열에서)의 합이 목표 값과 같은지 확인하는 \n",
    "#Python 프로그램을 작성하십시오. \n",
    "#3요소 조합을 모두 인쇄하십시오.\n",
    "'''\n",
    "샘플 데이터:\n",
    "/*\n",
    "X = [10, 20, 20, 20]\n",
    "Y = [10, 20, 30, 40]\n",
    "Z = [10, 30, 40, 20]\n",
    "목표 = 70\n",
    "*/\n",
    "'''\n",
    "import itertools\n",
    "from functools import partial\n",
    "X = [10, 20, 20, 20]\n",
    "Y = [10, 20, 30, 40]\n",
    "Z = [10, 30, 40, 20]\n",
    "T = 70\n",
    "\n",
    "\n",
    "#중복되지 않은 List를 만든 후에 \n",
    "#sum 이 타켓값과 같은 경우 True 아닐 경우 False를 Tuple로 Return 한다\n",
    "def check_sum_array(N, *nums): \n",
    "    \n",
    " \n",
    "#itertool return combination of X Y and Z\n",
    "pro = itertools.product(X,Y,Z)\n",
    "print(list(pro))\n",
    "\n",
    "#mapping T = 70\n",
    "func = partial(check_sum_array, T)\n",
    "\n",
    "#func 아래 mapping *nums 리턴 한다 \n",
    "sums = list(itertools.starmap(func, pro))\n",
    "\n",
    "#Sava list if sum is T(70)\n"
   ]
  },
  {
   "cell_type": "code",
   "execution_count": 26,
   "metadata": {},
   "outputs": [
    {
     "name": "stdout",
     "output_type": "stream",
     "text": [
      "[100, 70, 40, 80, 50, 90, 60, 30]\n",
      "(False, True, False, False, False, False, False, False)\n"
     ]
    }
   ],
   "source": [
    "X = [10, 20, 20, 20]\n",
    "Y = [10, 20, 30, 40]\n",
    "Z = [10, 30, 40, 20]\n",
    "T=70\n",
    "result=[]\n",
    "for i in X:\n",
    "    for j in Y:\n",
    "        for n in Z:\n",
    "            result.append(i+j+n)\n",
    "result_1=[]\n",
    "result= list(set(result))\n",
    "for i in result:\n",
    "    if i == T:\n",
    "        result_1.append(True)\n",
    "    else:\n",
    "        result_1.append(False)  \n",
    "\n",
    "result_1=tuple((result_1))\n",
    "print(result)\n",
    "print(result_1)\n",
    "        \n",
    "    "
   ]
  },
  {
   "cell_type": "code",
   "execution_count": 5,
   "metadata": {},
   "outputs": [
    {
     "name": "stdout",
     "output_type": "stream",
     "text": [
      "1\n",
      "2\n",
      "3\n",
      "4\n"
     ]
    }
   ],
   "source": [
    "a= iter([1,2,3,4])\n",
    "\n",
    "it=next(a)\n",
    "print(it)\n",
    "it=next(a)\n",
    "print(it)\n",
    "it=next(a)\n",
    "print(it)\n",
    "it=next(a)\n",
    "print(it)"
   ]
  },
  {
   "cell_type": "code",
   "execution_count": 7,
   "metadata": {},
   "outputs": [
    {
     "ename": "NameError",
     "evalue": "name 'portfolio' is not defined",
     "output_type": "error",
     "traceback": [
      "\u001b[1;31m---------------------------------------------------------------------------\u001b[0m",
      "\u001b[1;31mNameError\u001b[0m                                 Traceback (most recent call last)",
      "Cell \u001b[1;32mIn[7], line 2\u001b[0m\n\u001b[0;32m      1\u001b[0m \u001b[39mimport\u001b[39;00m \u001b[39mcsv\u001b[39;00m\n\u001b[1;32m----> 2\u001b[0m \u001b[39mwith\u001b[39;00m \u001b[39mopen\u001b[39m (portfolio\u001b[39m.\u001b[39mcsv) \u001b[39mas\u001b[39;00m f:\n\u001b[0;32m      3\u001b[0m     rows \u001b[39m=\u001b[39mcsv\u001b[39m.\u001b[39mreader(f)\n",
      "\u001b[1;31mNameError\u001b[0m: name 'portfolio' is not defined"
     ]
    }
   ],
   "source": [
    "import csv\n",
    "with open (portfolio.csv) as f:\n",
    "    rows =csv.reader(f)"
   ]
  },
  {
   "cell_type": "code",
   "execution_count": 160,
   "metadata": {},
   "outputs": [
    {
     "name": "stdout",
     "output_type": "stream",
     "text": [
      "[['AA', '9.22'], ['IBM', '106.28'], ['CAT', '35.46'], ['MSFT', '20.89'], ['GE', '13.48'], ['MSFT', '20.89'], ['IBM', '106.28']]\n",
      "[['AA', '100', '32.2'], ['IBM', '50', '91.1'], ['CAT', '150', '83.44'], ['MSFT', '200', '51.23'], ['GE', '95', '40.37'], ['MSFT', '50', '65.1'], ['IBM', '100', '70.44']]\n",
      "[['AA', '100', '9.22'], ['IBM', '50', '106.28'], ['CAT', '150', '35.46'], ['MSFT', '200', '20.89'], ['GE', '95', '13.48'], ['MSFT', '50', '20.89'], ['IBM', '100', '106.28']]\n",
      "[922, 5314, 5319, 4178, 1280, 1044, 10628]\n"
     ]
    }
   ],
   "source": [
    "import csv\n",
    "\n",
    "with open(\"portfolio.csv\") as f:\n",
    "    rows= csv.reader(f)\n",
    "    header =next(rows)\n",
    "    row1=next(rows)\n",
    "    row2=next(rows)\n",
    "    row3=next(rows)\n",
    "    row4=next(rows)\n",
    "    row5=next(rows)\n",
    "    row6=next(rows)\n",
    "    row7=next(rows)\n",
    "    \n",
    "    result=[]\n",
    "    result.append(row1)\n",
    "    result.append(row2)\n",
    "    result.append(row3)\n",
    "    result.append(row4)\n",
    "    result.append(row5)\n",
    "    result.append(row6)\n",
    "    result.append(row7)\n",
    "    \n",
    "\n",
    "with open(\"prices.csv\") as p:\n",
    "    rows= csv.reader(p)\n",
    "    \n",
    "    arr=[]\n",
    "    row1=next(rows)\n",
    "    row2=next(rows)\n",
    "    row3=next(rows)\n",
    "    row4=next(rows)\n",
    "    row5=next(rows)\n",
    "    row6=next(rows)\n",
    "    row7=next(rows)\n",
    "    row8=next(rows)\n",
    "    row9=next(rows)\n",
    "    row10=next(rows)\n",
    "    row11=next(rows)\n",
    "    row12=next(rows)\n",
    "    row13=next(rows)\n",
    "    row14=next(rows)\n",
    "    row15=next(rows)\n",
    "    row16=next(rows)\n",
    "    row17=next(rows)\n",
    "    row18=next(rows)\n",
    "    row19=next(rows)\n",
    "    row20=next(rows)\n",
    "    row22=next(rows)\n",
    "    row21=next(rows)\n",
    "    row23=next(rows)\n",
    "    row24=next(rows)\n",
    "    row25=next(rows)\n",
    "    row26=next(rows)\n",
    "    row27=next(rows)\n",
    "    row28=next(rows)\n",
    "    row29=next(rows)\n",
    "    row30=next(rows)\n",
    "    \n",
    "        \n",
    "    arr.append(row1)\n",
    "    arr.append(row2)\n",
    "    arr.append(row3)\n",
    "    arr.append(row4)\n",
    "    arr.append(row5)\n",
    "    arr.append(row6)\n",
    "    arr.append(row7)\n",
    "    arr.append(row8)\n",
    "    arr.append(row9)\n",
    "    arr.append(row10)\n",
    "    arr.append(row11)\n",
    "    arr.append(row12)\n",
    "    arr.append(row13)\n",
    "    arr.append(row14)\n",
    "    arr.append(row15)\n",
    "    arr.append(row16)\n",
    "    arr.append(row17)\n",
    "    arr.append(row18)\n",
    "    arr.append(row19)\n",
    "    arr.append(row20)\n",
    "    arr.append(row21)\n",
    "    arr.append(row22)\n",
    "    arr.append(row23)\n",
    "    arr.append(row24)\n",
    "    arr.append(row25)\n",
    "    arr.append(row26)\n",
    "    arr.append(row27)\n",
    "    arr.append(row28)\n",
    "    arr.append(row29)\n",
    "    arr.append(row30)\n",
    "    \n",
    "\n",
    "g_arr=[]\n",
    "for i in range(len(result)):\n",
    "        g =result[i][0]\n",
    "        g_arr.append(g)\n",
    "\n",
    "c_arr=[]\n",
    "for i in range(len(g_arr)):\n",
    "    for j in range(len(arr)):\n",
    "        if g_arr[i] == arr[j][0]:\n",
    "            c_arr.append(arr[j])\n",
    "\n",
    "f_arr=[]\n",
    "for i in range(len(g)):\n",
    "    for j in range(len(c_arr)):\n",
    "        if result[i][2] == c_arr[j][1]:\n",
    "            f_arr.append(result[i][2])\n",
    "        else:\n",
    "            f_arr.append(c_arr[j][1])\n",
    "f_arr=[]\n",
    "for i in range(len(result)):\n",
    "        f_arr.append(result[i][:2])       \n",
    "            \n",
    "i_arr=[]\n",
    "for i in range(len(result)):\n",
    "    if result[i][2] != c_arr[i][1]:\n",
    "        i_arr.append(c_arr[i][1])\n",
    "for i in range(len(f_arr)):\n",
    "    f_arr[i].append(i_arr[i])\n",
    "print(c_arr)\n",
    "print(result)        \n",
    "print(f_arr)\n",
    "ff_arr=[]\n",
    "a=float(f_arr[0][2])\n",
    "for i in range(len(f_arr)):\n",
    "    ff_arr.append((int(float(f_arr[i][1])*float(f_arr[i][2]))))\n",
    "    \n",
    "print(ff_arr)\n",
    "   \n",
    "    "
   ]
  },
  {
   "cell_type": "code",
   "execution_count": 173,
   "metadata": {},
   "outputs": [
    {
     "data": {
      "text/plain": [
       "{'hello': 'world', 'value': 100, 'do': 'ing'}"
      ]
     },
     "execution_count": 173,
     "metadata": {},
     "output_type": "execute_result"
    }
   ],
   "source": [
    "py={\n",
    "   \"hello\":\"world\",\n",
    "   \"let`s\":\"go\",\n",
    "   \"value\":100 \n",
    "}\n",
    "py.get(\"hello\")\n",
    "del py[\"let`s\"]\n",
    "py\n",
    "py[\"do\"]=\"ing\"\n",
    "py"
   ]
  },
  {
   "cell_type": "code",
   "execution_count": 13,
   "metadata": {},
   "outputs": [
    {
     "name": "stdout",
     "output_type": "stream",
     "text": [
      "[(['you'], 36), (['yeah'], 28), (['she'], 20), (['loves'], 13), (['know'], 11), (['be'], 10), (['and'], 8), (['that', 'should', 'glad'], 7), (['love'], 5), (['her', 'with', 'a', 'like'], 4), ([\"it's\", 'to', 'says', \"can't\", 'bad'], 3)]\n"
     ]
    }
   ],
   "source": [
    "def lyrics_to_frequencies(lyrics):\n",
    "    myDict = {}\n",
    "    for word in lyrics:\n",
    "        if word in myDict:\n",
    "            myDict[word] += 1\n",
    "        else:\n",
    "            myDict[word] = 1\n",
    "    return myDict\n",
    "    \n",
    "    \n",
    "she_loves_you = ['she', 'loves', 'you', 'yeah', 'yeah', \n",
    "'yeah','she', 'loves', 'you', 'yeah', 'yeah', 'yeah',\n",
    "'she', 'loves', 'you', 'yeah', 'yeah', 'yeah',\n",
    "\n",
    "'you', 'think', \"you've\", 'lost', 'your', 'love',\n",
    "'well', 'i', 'saw', 'her', 'yesterday-yi-yay',\n",
    "\"it's\", 'you', \"she's\", 'thinking', 'of',\n",
    "'and', 'she', 'told', 'me', 'what', 'to', 'say-yi-yay',\n",
    "\n",
    "'she', 'says', 'she', 'loves', 'you',\n",
    "'and', 'you', 'know', 'that', \"can't\", 'be', 'bad',\n",
    "'yes', 'she', 'loves', 'you',\n",
    "'and', 'you', 'know', 'you', 'should', 'be', 'glad',\n",
    "\n",
    "'she', 'said', 'you', 'hurt', 'her', 'so',\n",
    "'she', 'almost', 'lost', 'her', 'mind',\n",
    "'and', 'now', 'she', 'says', 'she', 'knows',\n",
    "\"you're\", 'not', 'the', 'hurting', 'kind',\n",
    "\n",
    "'she', 'says', 'she', 'loves', 'you',\n",
    "'and', 'you', 'know', 'that', \"can't\", 'be', 'bad',\n",
    "'yes', 'she', 'loves', 'you',\n",
    "'and', 'you', 'know', 'you', 'should', 'be', 'glad',\n",
    "\n",
    "'oo', 'she', 'loves', 'you', 'yeah', 'yeah', 'yeah',\n",
    "'she', 'loves', 'you', 'yeah', 'yeah', 'yeah',\n",
    "'with', 'a', 'love', 'like', 'that',\n",
    "'you', 'know', 'you', 'should', 'be', 'glad',\n",
    "\n",
    "'you', 'know', \"it's\", 'up', 'to', 'you',\n",
    "'i', 'think', \"it's\", 'only', 'fair',\n",
    "'pride', 'can', 'hurt', 'you', 'too',\n",
    "'pologize', 'to', 'her',\n",
    "\n",
    "'Because', 'she', 'loves', 'you',\n",
    "'and', 'you', 'know', 'that', \"can't\", 'be', 'bad',\n",
    "'Yes', 'she', 'loves', 'you',\n",
    "'and', 'you', 'know', 'you', 'should', 'be', 'glad',\n",
    "\n",
    "'oo', 'she', 'loves', 'you', 'yeah', 'yeah', 'yeah',\n",
    "'she', 'loves', 'you', 'yeah', 'yeah', 'yeah',\n",
    "'with', 'a', 'love', 'like', 'that',\n",
    "'you', 'know', 'you', 'should', 'be', 'glad',\n",
    "'with', 'a', 'love', 'like', 'that',\n",
    "'you', 'know', 'you', 'should', 'be', 'glad',\n",
    "'with', 'a', 'love', 'like', 'that',\n",
    "'you', 'know', 'you', 'should', 'be', 'glad',\n",
    "'yeah', 'yeah', 'yeah',\n",
    "'yeah', 'yeah', 'yeah', 'yeah'\n",
    "]\n",
    "\n",
    "beatles = lyrics_to_frequencies(she_loves_you)\n",
    "\n",
    "\n",
    "def most_common_words(freqs):\n",
    "    values = freqs.values()\n",
    "    best = max(freqs.values())\n",
    "    words = []\n",
    "    for k in freqs:\n",
    "        if freqs[k] == best:\n",
    "            words.append(k)\n",
    "    return (words, best)\n",
    "    \n",
    "def words_often(freqs, minTimes):\n",
    "    result = []\n",
    "    done = False\n",
    "    while not done:\n",
    "        temp = most_common_words(freqs)\n",
    "        if temp[1] >= minTimes:\n",
    "            result.append(temp)\n",
    "            for w in temp[0]:\n",
    "                del(freqs[w])  #remove word from dict\n",
    "        else:\n",
    "            done = True\n",
    "    return result\n",
    "print(words_often(beatles,3))"
   ]
  },
  {
   "cell_type": "code",
   "execution_count": 28,
   "metadata": {},
   "outputs": [
    {
     "name": "stdout",
     "output_type": "stream",
     "text": [
      "Name:준호 Age:27\n",
      "Weight:100\n",
      "Height190\n"
     ]
    }
   ],
   "source": [
    "class Person:\n",
    "    #Person will be created when name and age are given\n",
    "    def __init__(self, name, age):\n",
    "        self.myname = name\n",
    "        self.myage = age\n",
    "    #print ex) Name: Jaesung\n",
    "    #          Age: 50 \n",
    "    def __str__(self):\n",
    "        return \"Name: \" + self.myname +\"\\nAge: \" + str(self.myage)\n",
    "    \n",
    "    #Pre: None\n",
    "    #Method: getting name attribute of Person class\n",
    "    #Output: return name\n",
    "    def get_myName(self):\n",
    "        return self.myname\n",
    "    #Pre: None\n",
    "    #Method: getting age attribute of Person class\n",
    "    #Output: return age\n",
    "    def get_myAge(self):\n",
    "        return self.myage\n",
    "class Student(Person):\n",
    "    def __init__(self, weight, height):\n",
    "        self.myWeight = weight\n",
    "        self.myHeight = height\n",
    "    def __str__(self):\n",
    "        return \"Name:\"+p1.myname+\" Age:\"+str(p1.myage)+\"\\nWeight:\"+str(self.myWeight)+\"\\nHeight\"+str(self.myHeight)\n",
    "p1=Person(\"준호\",27)\n",
    "std1 = Student(p1,100,190)\n",
    "print(std1)"
   ]
  }
 ],
 "metadata": {
  "kernelspec": {
   "display_name": "base",
   "language": "python",
   "name": "python3"
  },
  "language_info": {
   "codemirror_mode": {
    "name": "ipython",
    "version": 3
   },
   "file_extension": ".py",
   "mimetype": "text/x-python",
   "name": "python",
   "nbconvert_exporter": "python",
   "pygments_lexer": "ipython3",
   "version": "3.11.2"
  },
  "orig_nbformat": 4
 },
 "nbformat": 4,
 "nbformat_minor": 2
}
