{
 "cells": [
  {
   "cell_type": "code",
   "execution_count": 8,
   "metadata": {},
   "outputs": [
    {
     "name": "stdout",
     "output_type": "stream",
     "text": [
      "*****\n"
     ]
    }
   ],
   "source": [
    "#사용자로 부터 값을 입력받아서 그 수 만큼 *를 프린트하기\n",
    "\n",
    "number = int(input())\n",
    "print(\"*\" * number)"
   ]
  },
  {
   "cell_type": "code",
   "execution_count": 1,
   "metadata": {},
   "outputs": [
    {
     "name": "stdout",
     "output_type": "stream",
     "text": [
      "15\n",
      "False\n"
     ]
    }
   ],
   "source": [
    "pset_time = 15\n",
    "sleep_time = 8\n",
    "\n",
    "\"\"\" \n",
    "sleep_time이 pset_time 보다 클 경우만 sleep_time을 출력하고,\n",
    "나머지는 pset_time을 출력하라\n",
    "\"\"\"\n",
    "if sleep_time > pset_time:\n",
    "    print(sleep_time)\n",
    "else:\n",
    "    print(pset_time)\n",
    "derive =True\n",
    "drink = False\n",
    "both = drink and derive\n",
    "\n",
    "print(both)"
   ]
  },
  {
   "cell_type": "code",
   "execution_count": 5,
   "metadata": {},
   "outputs": [
    {
     "name": "stdout",
     "output_type": "stream",
     "text": [
      "15\n"
     ]
    }
   ],
   "source": [
    "pset_time = 15\n",
    "sleep_time = 8\n",
    "\n",
    "print(sleep_time) if sleep_time > pset_time else print(pset_time)"
   ]
  },
  {
   "cell_type": "code",
   "execution_count": 8,
   "metadata": {},
   "outputs": [
    {
     "name": "stdout",
     "output_type": "stream",
     "text": [
      "x and y equal\n",
      "thanks\n"
     ]
    }
   ],
   "source": [
    "x = int(input())\n",
    "y = int(input())\n",
    "if x == y:\n",
    "    print(\"x and y equal\")\n",
    "    if y != 0:\n",
    "        print(\"therefore, x/y is\", x/y)\n",
    "elif x < y:\n",
    "    print(\"x is smaller\")\n",
    "else:\n",
    "    print(\"y is smaller\")\n",
    "print(\"thanks\")"
   ]
  },
  {
   "cell_type": "code",
   "execution_count": 10,
   "metadata": {},
   "outputs": [
    {
     "name": "stdout",
     "output_type": "stream",
     "text": [
      "5050\n"
     ]
    }
   ],
   "source": [
    "mysum =0\n",
    "for i in range(1,101):\n",
    "    mysum += i\n",
    "print(mysum)"
   ]
  },
  {
   "cell_type": "code",
   "execution_count": 21,
   "metadata": {},
   "outputs": [
    {
     "name": "stdout",
     "output_type": "stream",
     "text": [
      "10\n",
      "9\n",
      "8\n",
      "7\n",
      "6\n",
      "5\n",
      "4\n",
      "3\n",
      "2\n",
      "1\n",
      "0\n",
      "you failed to enter nonnegative number\n"
     ]
    }
   ],
   "source": [
    "# \n",
    "number = int(input())\n",
    "while number >= 0:\n",
    "    print(number)\n",
    "    number-=1\n",
    "    if number < 0:\n",
    "        print(\"you failed to enter nonnegative number\")\n",
    "        break\n",
    " \n",
    "    "
   ]
  },
  {
   "cell_type": "code",
   "execution_count": 5,
   "metadata": {},
   "outputs": [
    {
     "name": "stdout",
     "output_type": "stream",
     "text": [
      "H는 1번 자리에 있습니다\n",
      "e는 2번 자리에 있습니다\n",
      "l는 3번 자리에 있습니다\n",
      "l는 4번 자리에 있습니다\n",
      "o는 5번 자리에 있습니다\n",
      " 는 6번 자리에 있습니다\n",
      "w는 7번 자리에 있습니다\n",
      "o는 8번 자리에 있습니다\n",
      "r는 9번 자리에 있습니다\n",
      "l는 10번 자리에 있습니다\n",
      "d는 11번 자리에 있습니다\n"
     ]
    }
   ],
   "source": [
    "s = \"Hello world\"\n",
    "index=1\n",
    "for i in s:\n",
    "    print(\"{}는 {}번 자리에 있습니다\".format(i,index))\n",
    "    index+=1\n",
    "    "
   ]
  },
  {
   "cell_type": "code",
   "execution_count": 10,
   "metadata": {},
   "outputs": [
    {
     "name": "stdout",
     "output_type": "stream",
     "text": [
      "1\n",
      "3\n",
      "5\n",
      "7\n",
      "9\n",
      "=======\n",
      "0\n",
      "2\n",
      "4\n",
      "6\n",
      "8\n"
     ]
    }
   ],
   "source": [
    "for i in range(1,10,2):\n",
    "    print(i)\n",
    "print(\"=======\")\n",
    "for i in range(0,10,2):\n",
    "    print(i)"
   ]
  },
  {
   "cell_type": "code",
   "execution_count": 17,
   "metadata": {},
   "outputs": [
    {
     "name": "stdout",
     "output_type": "stream",
     "text": [
      "10\n",
      "10\n",
      "commom letter m,m\n",
      "commom letter i,i\n",
      "commom letter t,t\n",
      "commom letter  , \n",
      "commom letter u,u\n",
      "commom letter  , \n",
      "commom letter r,r\n"
     ]
    }
   ],
   "source": [
    "s1 =\"mit u rock\"\n",
    "s2 =\"i rule mit\"\n",
    "print(len(s1))\n",
    "print(len(s2))\n",
    "if len(s1) == len(s2):\n",
    "    for char1 in s1:\n",
    "        for char2 in s2:\n",
    "            if char1 == char2:\n",
    "                print(\"commom letter {},{}\".format(char1, char2))\n",
    "                break"
   ]
  },
  {
   "cell_type": "code",
   "execution_count": 9,
   "metadata": {},
   "outputs": [
    {
     "name": "stdout",
     "output_type": "stream",
     "text": [
      "10 is not a perfect cube\n"
     ]
    }
   ],
   "source": [
    "cube=int(input())\n",
    "\n",
    "for g in range(abs(cube)+1):\n",
    "    if g**3 >= abs(cube):\n",
    "        break\n",
    "if g**3 != abs(cube):\n",
    "    print(cube, 'is not a perfect cube')\n",
    "else:\n",
    "    if cube < 0:\n",
    "        g =-g\n",
    "        print(\"Cube root of\"+str(cube)+\"is\"+str(g))"
   ]
  },
  {
   "cell_type": "code",
   "execution_count": 21,
   "metadata": {},
   "outputs": [
    {
     "name": "stdout",
     "output_type": "stream",
     "text": [
      "num_g = 1\n",
      "num_g = 2\n",
      "num_g = 3\n",
      "num_g = 4\n",
      "num_g = 5\n",
      "num_g = 6\n",
      "num_g = 7\n",
      "num_g = 8\n",
      "num_g = 9\n",
      "num_g = 10\n",
      "num_g = 11\n",
      "num_g = 12\n",
      "num_g = 13\n",
      "num_g = 14\n",
      "num_g = 15\n",
      "num_g = 16\n",
      "num_g = 17\n",
      "num_g = 18\n",
      "num_g = 19\n",
      "num_g = 20\n",
      "num_g = 21\n",
      "num_g = 22\n",
      "num_g = 23\n",
      "num_g = 24\n",
      "num_g = 25\n",
      "num_g = 26\n",
      "num_g = 27\n",
      "num_g = 28\n",
      "num_g = 29\n",
      "num_g = 30\n",
      "num_g = 31\n",
      "num_g = 32\n",
      "num_g = 33\n",
      "num_g = 34\n",
      "num_g = 35\n",
      "num_g = 36\n",
      "num_g = 37\n",
      "num_g = 38\n",
      "num_g = 39\n",
      "num_g = 40\n",
      "num_g = 41\n",
      "num_g = 42\n",
      "num_g = 43\n",
      "num_g = 44\n",
      "num_g = 45\n",
      "num_g = 46\n",
      "num_g = 47\n",
      "num_g = 48\n",
      "num_g = 49\n",
      "num_g = 50\n",
      "num_g = 51\n",
      "num_g = 52\n",
      "num_g = 53\n",
      "num_g = 54\n",
      "num_g = 55\n",
      "num_g = 56\n",
      "num_g = 57\n",
      "num_g = 58\n",
      "num_g = 59\n",
      "num_g = 60\n",
      "num_g = 61\n",
      "num_g = 62\n",
      "num_g = 63\n",
      "num_g = 64\n",
      "num_g = 65\n",
      "num_g = 66\n",
      "num_g = 67\n",
      "num_g = 68\n",
      "num_g = 69\n",
      "num_g = 70\n",
      "num_g = 71\n",
      "num_g = 72\n",
      "num_g = 73\n",
      "num_g = 74\n",
      "num_g = 75\n",
      "num_g = 76\n",
      "num_g = 77\n",
      "num_g = 78\n",
      "num_g = 79\n",
      "num_g = 80\n",
      "Failed on cube root of 0.008\n"
     ]
    }
   ],
   "source": [
    "cube = 0.008\n",
    "epsilon = 0.001\n",
    "g= 0.0\n",
    "increament = 0.0001\n",
    "num_g=0\n",
    "\n",
    "while abs((g**3+1)/2-cube) >= epsilon and g <= cube:\n",
    "    g += increament\n",
    "    num_g +=1\n",
    "    print('num_g =', num_g) \n",
    "if abs((g**3+1)/2 - cube) >= epsilon:\n",
    "    print('Failed on cube root of', cube) \n",
    "else:\n",
    "    print(g, 'is close to the cube root of', cube)\n"
   ]
  }
 ],
 "metadata": {
  "kernelspec": {
   "display_name": "base",
   "language": "python",
   "name": "python3"
  },
  "language_info": {
   "codemirror_mode": {
    "name": "ipython",
    "version": 3
   },
   "file_extension": ".py",
   "mimetype": "text/x-python",
   "name": "python",
   "nbconvert_exporter": "python",
   "pygments_lexer": "ipython3",
   "version": "3.11.2"
  },
  "orig_nbformat": 4
 },
 "nbformat": 4,
 "nbformat_minor": 2
}
