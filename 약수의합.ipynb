{
 "cells": [
  {
   "cell_type": "code",
   "execution_count": 22,
   "metadata": {},
   "outputs": [
    {
     "name": "stdout",
     "output_type": "stream",
     "text": [
      "72\n",
      "72\n"
     ]
    }
   ],
   "source": [
    "\"\"\"\n",
    "문제 설명\n",
    "정수 n을 입력받아 n의 약수를 모두 더한 값을 리턴하는 함수, solution을 완성해주세요.\n",
    "\n",
    "제한 사항\n",
    "n은 0 이상 3000이하인 정수입니다.\n",
    "입출력 예\n",
    "n\treturn\n",
    "12\t28\n",
    "5\t6\n",
    "\"\"\"\n",
    "def solution(n):\n",
    "    sum = 0\n",
    "    for i in range(1,n+1):\n",
    "        if (n % i ==0):\n",
    "            sum+=i\n",
    "    return sum\n",
    "\n",
    "def solution_1(n):\n",
    "    answer = 0\n",
    "    for i in range(1,n+1):\n",
    "        if(n % i == 0):\n",
    "            answer+=i\n",
    "    return answer\n",
    "print(solution_1(30))\n",
    "print(solution(30))"
   ]
  },
  {
   "cell_type": "code",
   "execution_count": 27,
   "metadata": {},
   "outputs": [
    {
     "data": {
      "text/plain": [
       "2.5"
      ]
     },
     "execution_count": 27,
     "metadata": {},
     "output_type": "execute_result"
    }
   ],
   "source": [
    "\"\"\"\n",
    "정수를 담고 있는 배열 arr의 평균값을 return하는 함수, solution을 완성해보세요.\n",
    "\n",
    "제한사항\n",
    "arr은 길이 1 이상, 100 이하인 배열입니다.\n",
    "arr의 원소는 -10,000 이상 10,000 이하인 정수입니다.\n",
    "입출력 예\n",
    "arr\treturn\n",
    "[1,2,3,4]\t2.5\n",
    "[5,5]\t5\n",
    "\"\"\"\n",
    "def solution(arr):\n",
    "    sum = 0\n",
    "    for i in arr:\n",
    "        sum += i\n",
    "    \n",
    "    return sum/len(arr)\n",
    "\n",
    "arr=[1,2,3,4]\n",
    "\n",
    "solution(arr)"
   ]
  },
  {
   "cell_type": "code",
   "execution_count": 29,
   "metadata": {},
   "outputs": [
    {
     "name": "stdout",
     "output_type": "stream",
     "text": [
      "hello world!\n"
     ]
    }
   ],
   "source": [
    "print(\"hello world!\")"
   ]
  },
  {
   "cell_type": "code",
   "execution_count": 30,
   "metadata": {},
   "outputs": [
    {
     "data": {
      "text/plain": [
       "'ㅁㅁ'"
      ]
     },
     "execution_count": 30,
     "metadata": {},
     "output_type": "execute_result"
    }
   ],
   "source": [
    "input(\"이름을 입력해주세요\")"
   ]
  },
  {
   "cell_type": "code",
   "execution_count": 42,
   "metadata": {},
   "outputs": [
    {
     "data": {
      "text/plain": [
       "6"
      ]
     },
     "execution_count": 42,
     "metadata": {},
     "output_type": "execute_result"
    }
   ],
   "source": [
    "\"\"\"\n",
    "자연수 N이 주어지면, N의 각 자릿수의 합을 구해서 return 하는 solution 함수를 만들어 주세요.\n",
    "예를들어 N = 123이면 1 + 2 + 3 = 6을 return 하면 됩니다.\n",
    "\n",
    "제한사항\n",
    "N의 범위 : 100,000,000 이하의 자연수\n",
    "입출력 예\n",
    "N\tanswer\n",
    "123\t6\n",
    "987\t24 \n",
    "\"\"\"\n",
    "\n",
    "def solution(n):\n",
    "    sum = 0\n",
    "    for i in str(n):\n",
    "        sum+=int(i)\n",
    "    return sum\n",
    "solution(123)"
   ]
  },
  {
   "cell_type": "code",
   "execution_count": 45,
   "metadata": {},
   "outputs": [
    {
     "data": {
      "text/plain": [
       "'Odd'"
      ]
     },
     "execution_count": 45,
     "metadata": {},
     "output_type": "execute_result"
    }
   ],
   "source": [
    "\"\"\"\n",
    "문제 설명\n",
    "정수 num이 짝수일 경우 \"Even\"을 반환하고 홀수인 경우 \"Odd\"를 반환하는 함수, solution을 완성해주세요.\n",
    "\n",
    "제한 조건\n",
    "num은 int 범위의 정수입니다.\n",
    "0은 짝수입니다.\n",
    "\"\"\"\n",
    "def solution(num):\n",
    "    answer = \"Even\" if num % 2 ==0 else \"Odd\"\n",
    "    return answer\n",
    "solution(3)"
   ]
  },
  {
   "cell_type": "code",
   "execution_count": 60,
   "metadata": {},
   "outputs": [
    {
     "name": "stdout",
     "output_type": "stream",
     "text": [
      "[5, 4, 3, 2, 1]\n"
     ]
    }
   ],
   "source": [
    "\"\"\"\n",
    "자연수 n을 뒤집어 각 자리 숫자를 원소로 가지는 배열 형태로 리턴해주세요. 예를들어 n이 12345이면 [5,4,3,2,1]을 리턴합니다.\n",
    "\n",
    "제한 조건\n",
    "n은 10,000,000,000이하인 자연수입니다. \n",
    "\"\"\"\n",
    "\n",
    "def solution(n):\n",
    "    n=list(map(int,reversed(str(n))))\n",
    "   \n",
    "    return n\n",
    "\n",
    "solution(12345)       \n"
   ]
  },
  {
   "cell_type": "code",
   "execution_count": 62,
   "metadata": {},
   "outputs": [
    {
     "name": "stdout",
     "output_type": "stream",
     "text": [
      "[2]\n"
     ]
    }
   ],
   "source": [
    "def solution(x, n):\n",
    "    a = range(x,n)"
   ]
  },
  {
   "cell_type": "code",
   "execution_count": 4,
   "metadata": {},
   "outputs": [
    {
     "data": {
      "text/plain": [
       "30"
      ]
     },
     "execution_count": 4,
     "metadata": {},
     "output_type": "execute_result"
    }
   ],
   "source": [
    "(lambda x,y: x+y)(10,20)"
   ]
  },
  {
   "cell_type": "code",
   "execution_count": 12,
   "metadata": {},
   "outputs": [
    {
     "name": "stdout",
     "output_type": "stream",
     "text": [
      "[0, 1, 4, 9, 16]\n"
     ]
    }
   ],
   "source": [
    "a= map(lambda x: x ** 2, range(5)) \n",
    "a= list(a)\n",
    "print(a)"
   ]
  },
  {
   "cell_type": "code",
   "execution_count": 14,
   "metadata": {},
   "outputs": [
    {
     "name": "stdout",
     "output_type": "stream",
     "text": [
      "1\n",
      "3\n"
     ]
    }
   ],
   "source": [
    "#divmod 몫과 나머지를 구한다.\n",
    "\n",
    "def a(x,y):\n",
    "    b=divmod(x,y)\n",
    "    print(b[1])\n",
    "    print(b[0])\n",
    "a(10,3)\n",
    "    \n",
    "    "
   ]
  },
  {
   "cell_type": "code",
   "execution_count": 17,
   "metadata": {},
   "outputs": [
    {
     "data": {
      "text/plain": [
       "1500"
      ]
     },
     "execution_count": 17,
     "metadata": {},
     "output_type": "execute_result"
    }
   ],
   "source": [
    "def solution(num1, num2):\n",
    "    return int(float((num1/num2)*1000))\n",
    "solution(3,2)"
   ]
  },
  {
   "cell_type": "code",
   "execution_count": 27,
   "metadata": {},
   "outputs": [
    {
     "data": {
      "text/plain": [
       "[5, 4]"
      ]
     },
     "execution_count": 27,
     "metadata": {},
     "output_type": "execute_result"
    }
   ],
   "source": [
    "import math\n",
    "\n",
    "def solution(denum1, num1, denum2, num2):\n",
    "    num = denum1 * num2 + denum2 * num1\n",
    "    deno = num1 * num2\n",
    "    gcd = math.gcd(num, deno)\n",
    "    return [num//gcd, deno//gcd]\n",
    "solution(1,2,3,4)"
   ]
  },
  {
   "cell_type": "code",
   "execution_count": 42,
   "metadata": {},
   "outputs": [
    {
     "data": {
      "text/plain": [
       "[2, 4, 6, 8, 10]"
      ]
     },
     "execution_count": 42,
     "metadata": {},
     "output_type": "execute_result"
    }
   ],
   "source": [
    "def solution(numbers):\n",
    "    answer=[]\n",
    "    for i in numbers:\n",
    "        answer.append(i*2)\n",
    "    return answer\n",
    "numbers=[1,2,3,4,5]\n",
    "solution(numbers)     "
   ]
  },
  {
   "cell_type": "code",
   "execution_count": 1,
   "metadata": {},
   "outputs": [
    {
     "name": "stdout",
     "output_type": "stream",
     "text": [
      "1\n",
      "6\n"
     ]
    }
   ],
   "source": [
    "from math import gcd, lcm\n",
    "\n",
    "get_gcd =gcd(2,3)\n",
    "print(get_gcd)\n",
    "\n",
    "get_lcm = lcm(2,3)\n",
    "print(get_lcm)"
   ]
  },
  {
   "cell_type": "code",
   "execution_count": 10,
   "metadata": {},
   "outputs": [
    {
     "data": {
      "text/plain": [
       "[29, 6]"
      ]
     },
     "execution_count": 10,
     "metadata": {},
     "output_type": "execute_result"
    }
   ],
   "source": [
    "\"\"\"\n",
    "첫 번째 분수의 분자와 분모를 뜻하는 numer1, denom1, \n",
    "두 번째 분수의 분자와 분모를 뜻하는 numer2, denom2가 매개변수로 주어집니다. \n",
    "두 분수를 더한 값을 기약 분수로 나타냈을 때 분자와 분모를 순서대로 담은 배열을 return 하도록 solution 함수를 완성해보세요. \n",
    "\"\"\"\n",
    "from math import lcm\n",
    "\n",
    "\n",
    "def solution(numer1, denom1, numer2, denom2):\n",
    "    get_lcm= lcm(denom1,denom2)\n",
    "    answer=[]\n",
    "    numer = numer1*(get_lcm//denom1)+numer2*(get_lcm//denom2)\n",
    "    answer = [numer,get_lcm]\n",
    "    return answer\n",
    "solution(1,2,3,4)\n",
    "solution(9,2,1,3)"
   ]
  },
  {
   "cell_type": "code",
   "execution_count": 12,
   "metadata": {},
   "outputs": [
    {
     "name": "stdout",
     "output_type": "stream",
     "text": [
      "False\n"
     ]
    }
   ],
   "source": [
    "s=\"Ppypypy\"\n",
    "for i in s:\n",
    "    count = 0\n",
    "    count_1 =0\n",
    "    if i==\"f\":\n",
    "        count+=1\n",
    "    else:\n",
    "        count_1+=1\n",
    "if count == count_1:\n",
    "    print(True)\n",
    "else:\n",
    "        print(False)               "
   ]
  },
  {
   "cell_type": "code",
   "execution_count": 22,
   "metadata": {},
   "outputs": [
    {
     "data": {
      "text/plain": [
       "2"
      ]
     },
     "execution_count": 22,
     "metadata": {},
     "output_type": "execute_result"
    }
   ],
   "source": [
    "def solution(slice, n):\n",
    "    return ((n-1)//slice)+1\n",
    "solution(7,10)\n"
   ]
  },
  {
   "cell_type": "code",
   "execution_count": 13,
   "metadata": {},
   "outputs": [
    {
     "name": "stdout",
     "output_type": "stream",
     "text": [
      "0\n"
     ]
    }
   ],
   "source": [
    "a= 12%4\n",
    "print(a)"
   ]
  },
  {
   "cell_type": "code",
   "execution_count": 24,
   "metadata": {},
   "outputs": [
    {
     "data": {
      "text/plain": [
       "5.5"
      ]
     },
     "execution_count": 24,
     "metadata": {},
     "output_type": "execute_result"
    }
   ],
   "source": [
    "def solution(x):\n",
    "    sum=0\n",
    "    for i in x:\n",
    "        sum+=i\n",
    "    return sum/len(x)\n",
    "\n",
    "numbers=[1,2,3,4,5,6,7,8,9,10]\n",
    "\n",
    "solution(numbers)\n",
    "    \n",
    "    "
   ]
  },
  {
   "cell_type": "code",
   "execution_count": 31,
   "metadata": {},
   "outputs": [
    {
     "data": {
      "text/plain": [
       "['0', '1', '8']"
      ]
     },
     "execution_count": 31,
     "metadata": {},
     "output_type": "execute_result"
    }
   ],
   "source": [
    "def recursive(n, length):\n",
    "    if n == 0:\n",
    "        return[\"\"]\n",
    "    if n == 1 :\n",
    "        return[\"0\",\"1\",\"8\"]\n"
   ]
  },
  {
   "cell_type": "code",
   "execution_count": 4,
   "metadata": {},
   "outputs": [
    {
     "name": "stdout",
     "output_type": "stream",
     "text": [
      "Give me an h! h\n",
      "Give me an e! e\n",
      "Give me an l! l\n",
      "Give me an l! l\n",
      "Give me an o! o\n",
      "What does that spell?\n",
      "hello !!!\n",
      "hello !!!\n",
      "hello !!!\n",
      "hello !!!\n",
      "hello !!!\n",
      "hello !!!\n",
      "hello !!!\n",
      "hello !!!\n",
      "hello !!!\n",
      "hello !!!\n"
     ]
    }
   ],
   "source": [
    "an_letters = \"aefhilmnorsxAEFHILMNORSX\"\n",
    "\n",
    "word = input(\"I will cheer for you! Enter a word: \")\n",
    "times = int(input(\"Enthusiasm level (1-10): \"))\n",
    "i = 0\n",
    "\n",
    "while i < len(word):\n",
    "    char = word[i]\n",
    "    if char in an_letters:\n",
    "        print(\"Give me an \" + char + \"! \" + char)\n",
    "    else:\n",
    "        print(\"Give me a  \" + char + \"! \" + char)\n",
    "    i += 1\n",
    "print(\"What does that spell?\")\n",
    "for i in range(times):\n",
    "    print(word, \"!!!\")"
   ]
  },
  {
   "cell_type": "code",
   "execution_count": 17,
   "metadata": {},
   "outputs": [
    {
     "name": "stdout",
     "output_type": "stream",
     "text": [
      "[0, 2, 2, 1, 0]\n"
     ]
    }
   ],
   "source": [
    "a = [2,1,2,1,3]\n",
    "b=[0]*len(a)\n",
    "for i in a:\n",
    "    num = i\n",
    "    b[num]+=1\n",
    "print(b)"
   ]
  },
  {
   "cell_type": "code",
   "execution_count": 23,
   "metadata": {},
   "outputs": [
    {
     "name": "stdout",
     "output_type": "stream",
     "text": [
      "        AA,       100,     32.20\n"
     ]
    }
   ],
   "source": [
    "import csv\n",
    "\n",
    "with open(\"portfolio.csv\") as f:\n",
    "    next(f)\n",
    "    result=[]\n",
    "    rows =csv.reader(f)\n",
    "    for linenom ,line in enumerate(rows):\n",
    "        stocks={\n",
    "            linenom: [line[0], int(line[1]), float(line[2])]\n",
    "        }\n",
    "        result.append(stocks)\n",
    "\n",
    "print(\"%10s,%10d,%10.2f\" % (result[0][0][0],result[0][0][1],result[0][0][2]))"
   ]
  },
  {
   "cell_type": "code",
   "execution_count": 26,
   "metadata": {},
   "outputs": [
    {
     "name": "stdout",
     "output_type": "stream",
     "text": [
      "Dialect\n",
      "DictReader\n",
      "DictWriter\n",
      "Error\n",
      "QUOTE_ALL\n",
      "QUOTE_MINIMAL\n",
      "QUOTE_NONE\n",
      "QUOTE_NONNUMERIC\n",
      "Sniffer\n",
      "StringIO\n",
      "_Dialect\n",
      "__all__\n",
      "__builtins__\n",
      "__cached__\n",
      "__doc__\n",
      "__file__\n",
      "__loader__\n",
      "__name__\n",
      "__package__\n",
      "__spec__\n",
      "__version__\n",
      "excel\n",
      "excel_tab\n",
      "field_size_limit\n",
      "get_dialect\n",
      "list_dialects\n",
      "re\n",
      "reader\n",
      "register_dialect\n",
      "unix_dialect\n",
      "unregister_dialect\n",
      "writer\n"
     ]
    }
   ],
   "source": [
    "import csv\n",
    "\n",
    "for i in range(len(dir(csv))):\n",
    "    print(dir(csv)[i])"
   ]
  },
  {
   "cell_type": "code",
   "execution_count": 4,
   "metadata": {},
   "outputs": [
    {
     "name": "stdout",
     "output_type": "stream",
     "text": [
      "머냐\n",
      "꿀잼\n",
      "하나부터 열가지 다 널 위한 소리\n"
     ]
    }
   ],
   "source": [
    "import foo\n",
    "\n",
    "\n",
    "foo.spam(\"머냐\")\n",
    "foo.grok(\"꿀잼\")\n",
    "foo.spam(\"하나부터 열가지 다 널 위한 소리\")"
   ]
  },
  {
   "cell_type": "code",
   "execution_count": 5,
   "metadata": {},
   "outputs": [
    {
     "name": "stdout",
     "output_type": "stream",
     "text": [
      "[1, 2, 3, 4]\n"
     ]
    }
   ],
   "source": [
    "x=[1,2,3,4]\n",
    "\n",
    "def f(x, *args):\n",
    "    print(x)\n",
    "\n",
    "f(x)\n",
    "    "
   ]
  },
  {
   "cell_type": "code",
   "execution_count": 10,
   "metadata": {},
   "outputs": [
    {
     "data": {
      "text/plain": [
       "<function __main__.logged.<locals>.wrapper(*args, **kwargs)>"
      ]
     },
     "execution_count": 10,
     "metadata": {},
     "output_type": "execute_result"
    }
   ],
   "source": [
    "def logged(func):\n",
    "    def wrapper(*args, **kwargs):\n",
    "        print('Calling', func.__name__)\n",
    "        return func(*args, **kwargs)\n",
    "    return wrapper\n",
    "\n",
    "def add(x,y):\n",
    "    return x + y\n",
    "\n",
    "logged_add = logged(add)\n",
    "logged_add"
   ]
  },
  {
   "cell_type": "code",
   "execution_count": 61,
   "metadata": {},
   "outputs": [],
   "source": [
    "class Node:\n",
    "    def __init__(self,data,next=None):\n",
    "        self.data = data\n",
    "        self.next = next\n",
    "\n",
    "class Linked_List(Node):\n",
    "    \n",
    "    def __init__(self):\n",
    "        self.__head = Node(\"dummy\")\n",
    "        self.__numItems = 0 \n",
    "    \n",
    "    def insert(self, i:int,x):\n",
    "         if i >= 0 and i <= self.__numItems:\n",
    "             prev = self.__getNode(i-1)\n",
    "             newNode = Node(x,prev.next)\n",
    "             prev.next = newNode\n",
    "             self.__numItems += 1\n",
    "         else:\n",
    "             print(\"index\",i, \":out of bound in insert()\")\n",
    "    \n",
    "    def append(self, data):\n",
    "        prev = self.__getNode(self.__numItems-1)\n",
    "        newNode  = Node(data, prev.next)\n",
    "        prev.next =newNode\n",
    "        self.__numItems += 1\n",
    "    \n",
    "    def pop(self, i:int):\n",
    "        if i >= 0 and i <= self.__numItems-1:\n",
    "            prev = self.__getNode(i-1)\n",
    "            curr = prev.next\n",
    "            prev.next = curr.next\n",
    "            Item = curr.data\n",
    "            self.__numItems -=1\n",
    "            return Item\n",
    "        else:\n",
    "            return None\n",
    "    def remove(self,x):\n",
    "        (prev, curr) = self.__findNode(x)\n",
    "        if curr != None:\n",
    "            prev.next = curr.next\n",
    "            self.__numItems -=1\n",
    "            return x\n",
    "        else:\n",
    "            return None\n",
    "    def get(self, i:int):\n",
    "        if self.isEmpty():\n",
    "            return None\n",
    "        if( i >= 0 and i <= self.__numItems -1):\n",
    "            return self.__getNode(i).item\n",
    "        else:\n",
    "            return None\n",
    "    \n",
    "    def index(self,x):\n",
    "        curr = self.head.next\n",
    "        for index in range(self.__numItems):\n",
    "            if curr.item == x:\n",
    "                return index\n",
    "            else:\n",
    "                curr = curr.next\n",
    "        return -12345\n",
    "    \n",
    "    def isEmpty(self):\n",
    "        return self.__numItems == 0\n",
    "    def size(self):\n",
    "        return self.__numItems\n",
    "    def clear(self):\n",
    "        self.__head = Linked_List(\"dummy\", None)\n",
    "        self.__numItems = 0\n",
    "    def count(self,x):\n",
    "        cnt = 0\n",
    "        curr = self.head.next\n",
    "        while curr != None:\n",
    "            if curr.item == x:\n",
    "                cnt +=1 \n",
    "            curr = curr.next\n",
    "        return cnt\n",
    "    \n",
    "    def extend(self, a):\n",
    "        for index in range(a.size()):\n",
    "            self.append(a.get(index))\n",
    "    \n",
    "    def copy(self):\n",
    "        a = Linked_List()\n",
    "        for index in range(self.__numItems):\n",
    "            a.append(self.get(index))\n",
    "        return a \n",
    "    \n",
    "    def reverse(self):\n",
    "        a = Linked_List()\n",
    "        for index in range(self.__numItems):\n",
    "            a.insert(0, self.get(index))\n",
    "        self.clear()\n",
    "        for index in range(a.size()):\n",
    "            self.append(a.get(index))\n",
    "    \n",
    "    def sort(self):\n",
    "        a = []\n",
    "        for index in range(self.__numItems):\n",
    "            a.append(self.get(index))\n",
    "        a.sort()\n",
    "        for index in range(len(a)):\n",
    "            self.append(a[index])\n",
    "    def printList(self):\n",
    "        curr = self.__head.next\n",
    "        while curr != None:\n",
    "            print(curr.item, end=\"\")\n",
    "            curr = curr.next\n",
    "        print()\n",
    "    def __findNode(self,x):\n",
    "        prev = self.__head\n",
    "        curr = prev.next\n",
    "        while curr != None:\n",
    "            if curr.item == x:\n",
    "                return(prev,curr)\n",
    "            else:\n",
    "                prev = curr\n",
    "                curr = curr.next\n",
    "        return(None, None)\n",
    "    \n",
    "    def __getNode(self, i:int):\n",
    "        curr = self.__head\n",
    "        for i in range(i+1):\n",
    "            curr = curr.next\n",
    "        return curr\n",
    "\n",
    "list = Linked_List()\n",
    "\n",
    "list.append(30)\n",
    "list.insert(0,20)"
   ]
  },
  {
   "cell_type": "code",
   "execution_count": 72,
   "metadata": {},
   "outputs": [
    {
     "ename": "AttributeError",
     "evalue": "'NoneType' object has no attribute 'next'",
     "output_type": "error",
     "traceback": [
      "\u001b[1;31m---------------------------------------------------------------------------\u001b[0m",
      "\u001b[1;31mAttributeError\u001b[0m                            Traceback (most recent call last)",
      "Cell \u001b[1;32mIn[72], line 25\u001b[0m\n\u001b[0;32m     23\u001b[0m a \u001b[39m=\u001b[39m Linked()\n\u001b[0;32m     24\u001b[0m a\u001b[39m.\u001b[39mappend(\u001b[39m10\u001b[39m)\n\u001b[1;32m---> 25\u001b[0m a\u001b[39m.\u001b[39;49mappend(\u001b[39m20\u001b[39;49m)\n\u001b[0;32m     26\u001b[0m a\u001b[39m.\u001b[39mappend(\u001b[39m30\u001b[39m)\n\u001b[0;32m     27\u001b[0m a\u001b[39m.\u001b[39mappend(\u001b[39m40\u001b[39m)\n",
      "Cell \u001b[1;32mIn[72], line 20\u001b[0m, in \u001b[0;36mLinked.append\u001b[1;34m(self, data)\u001b[0m\n\u001b[0;32m     18\u001b[0m \u001b[39mfor\u001b[39;00m _ \u001b[39min\u001b[39;00m \u001b[39mrange\u001b[39m(Linked\u001b[39m.\u001b[39mcount):\n\u001b[0;32m     19\u001b[0m     cur \u001b[39m=\u001b[39m cur\u001b[39m.\u001b[39mnext\n\u001b[1;32m---> 20\u001b[0m cur\u001b[39m.\u001b[39;49mnext \u001b[39m=\u001b[39mnewNode\n",
      "\u001b[1;31mAttributeError\u001b[0m: 'NoneType' object has no attribute 'next'"
     ]
    }
   ],
   "source": [
    "class Node:\n",
    "    def __init__(self, data, next=None):\n",
    "        self.data = data\n",
    "        self.next = next\n",
    "\n",
    "class Linked:\n",
    "    count = 0\n",
    "    def __init__(self, head=None):\n",
    "        self.head = head\n",
    "        Linked.count += 1\n",
    "    \n",
    "    def append(self,data):\n",
    "        newNode = Node(data)\n",
    "        if self.head is None:\n",
    "            self.head  = newNode\n",
    "        else:\n",
    "            cur = self.head\n",
    "            for _ in range(Linked.count):\n",
    "                cur = cur.next\n",
    "            cur.next =newNode                \n",
    "        \n",
    "        \n",
    "a = Linked()\n",
    "a.append(10)\n",
    "a.append(20)\n",
    "a.append(30)\n",
    "a.append(40)\n",
    "a.head.next.data"
   ]
  },
  {
   "cell_type": "code",
   "execution_count": null,
   "metadata": {},
   "outputs": [],
   "source": [
    "class Node:\n",
    "    def __init__(self,data):\n",
    "        self.data = data\n",
    "        self.next = None\n",
    "\n",
    "class LinkedList:\n",
    "    def __init__(self, data):\n",
    "        self.head = Node(data)\n",
    "\n",
    "    def append(self, data):\n",
    "        if self.head is None:\n",
    "            self.head = Node(data)\n",
    "            return\n",
    "\n",
    "        cur = self.head\n",
    "        while cur.next is not None:\n",
    "            cur = cur.next\n",
    "        cur.next = Node(data)"
   ]
  }
 ],
 "metadata": {
  "kernelspec": {
   "display_name": "Python 3",
   "language": "python",
   "name": "python3"
  },
  "language_info": {
   "codemirror_mode": {
    "name": "ipython",
    "version": 3
   },
   "file_extension": ".py",
   "mimetype": "text/x-python",
   "name": "python",
   "nbconvert_exporter": "python",
   "pygments_lexer": "ipython3",
   "version": "3.11.2"
  },
  "orig_nbformat": 4
 },
 "nbformat": 4,
 "nbformat_minor": 2
}
