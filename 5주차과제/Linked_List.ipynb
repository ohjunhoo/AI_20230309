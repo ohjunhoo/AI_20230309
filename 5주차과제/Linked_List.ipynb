{
 "cells": [
  {
   "attachments": {},
   "cell_type": "markdown",
   "metadata": {},
   "source": [
    "### 연결 리스트 노드 생성 "
   ]
  },
  {
   "cell_type": "code",
   "execution_count": 1,
   "metadata": {},
   "outputs": [],
   "source": [
    "class Node:\n",
    "    def __init__(self,data,next=None):\n",
    "        self.data = data\n",
    "        self.next = next\n",
    "\n",
    "##### 배열은 인덱싱(indexing)으로 원소에 쉽게 접근할 수 있다. \n",
    "##### 그러나 원소를 추가하거나 삭제하는 작업은 연속한 메모리 공간을 확보하고,\n",
    "##### 원소를 이동시켜야 하므로 시간이 걸린다. 그래서 자료의 양이 정해져 있지 않거나,\n",
    "##### 자료를 추가하거나 삭제하는 일이 많다면 연결 리스트가 적합하다.        "
   ]
  },
  {
   "attachments": {},
   "cell_type": "markdown",
   "metadata": {},
   "source": [
    "### 간단한 연결 리스트 만들기 "
   ]
  },
  {
   "cell_type": "code",
   "execution_count": 3,
   "metadata": {},
   "outputs": [
    {
     "name": "stdout",
     "output_type": "stream",
     "text": [
      "1\n",
      "2\n",
      "3\n"
     ]
    }
   ],
   "source": [
    "head = Node(1)\n",
    "head.next = Node(2)\n",
    "head.next.next = Node(3)\n",
    "\n",
    "node = head # node -> Node(1)\n",
    "\n",
    "while node:\n",
    "    print(node.data)\n",
    "    node = node.next "
   ]
  },
  {
   "attachments": {},
   "cell_type": "markdown",
   "metadata": {},
   "source": [
    "### 연결 리스트의 끝에 새 노드 추가하기 "
   ]
  },
  {
   "cell_type": "code",
   "execution_count": 14,
   "metadata": {},
   "outputs": [
    {
     "name": "stdout",
     "output_type": "stream",
     "text": [
      "0\n",
      "100\n",
      "200\n",
      "300\n",
      "400\n"
     ]
    }
   ],
   "source": [
    "class Node:\n",
    "    def __init__(self,data,next = None):\n",
    "        self.data = data\n",
    "        self.next = next\n",
    "\n",
    "head = Node(100)\n",
    "head.next = Node(200)\n",
    "head.next.next = Node(300)\n",
    "\n",
    "node = head\n",
    "\n",
    "while node:\n",
    "    if node.next is None:\n",
    "         node.next = Node(400)\n",
    "         break\n",
    "    node = node.next\n",
    "\n",
    "node = Node(0)\n",
    "node.next = head\n",
    "head = node\n",
    "\n",
    "while head:\n",
    "    print(head.data)\n",
    "    head = head.next"
   ]
  },
  {
   "attachments": {},
   "cell_type": "markdown",
   "metadata": {},
   "source": [
    "### Node 클래스와 Linked_list 클래스 "
   ]
  },
  {
   "cell_type": "code",
   "execution_count": 23,
   "metadata": {},
   "outputs": [
    {
     "name": "stdout",
     "output_type": "stream",
     "text": [
      "2\n"
     ]
    }
   ],
   "source": [
    "class Node:\n",
    "    def __init__(self,data,next=None):\n",
    "        self.data = data\n",
    "        self.next = next \n",
    "\n",
    "class Linked_list:\n",
    "    \n",
    "    def __init__(self,head=None):\n",
    "        self.head = head\n",
    "        self.length = 0\n",
    "    \n",
    "    def __len__(self):\n",
    "        return self.length\n",
    "    \n",
    "    def appendleft(self, data):\n",
    "        node = Node(data)\n",
    "        if self.head is None:\n",
    "            self.head = node\n",
    "        else:\n",
    "            node.next = self.head\n",
    "            self.head = node\n",
    "        self.length +=1 \n",
    "\n",
    "mylist = Linked_list()\n",
    "mylist.append(10)\n",
    "mylist.append(20)\n",
    "print(len(mylist))"
   ]
  }
 ],
 "metadata": {
  "kernelspec": {
   "display_name": "Python 3",
   "language": "python",
   "name": "python3"
  },
  "language_info": {
   "codemirror_mode": {
    "name": "ipython",
    "version": 3
   },
   "file_extension": ".py",
   "mimetype": "text/x-python",
   "name": "python",
   "nbconvert_exporter": "python",
   "pygments_lexer": "ipython3",
   "version": "3.11.2"
  },
  "orig_nbformat": 4
 },
 "nbformat": 4,
 "nbformat_minor": 2
}
