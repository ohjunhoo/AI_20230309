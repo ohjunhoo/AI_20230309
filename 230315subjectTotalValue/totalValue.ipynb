{
 "cells": [
  {
   "cell_type": "code",
   "execution_count": 166,
   "metadata": {},
   "outputs": [
    {
     "name": "stdout",
     "output_type": "stream",
     "text": [
      "[{'name': 'AA', 'shares': '100', 'price': '32.2'}, {'name': 'IBM', 'shares': '50', 'price': '91.1'}, {'name': 'CAT', 'shares': '150', 'price': '83.44'}, {'name': 'MSFT', 'shares': '200', 'price': '51.23'}, {'name': 'GE', 'shares': '95', 'price': '40.37'}, {'name': 'MSFT', 'shares': '50', 'price': '65.1'}, {'name': 'IBM', 'shares': '100', 'price': '70.44'}]\n",
      "[['AA', '9.22'], ['IBM', '106.28'], ['CAT', '35.46'], ['MSFT', '20.89'], ['GE', '13.48'], ['MSFT', '20.89'], ['IBM', '106.28']]\n",
      "[{'name': 'AA', 'shares': '100', 'price': '9.22'}, {'name': 'IBM', 'shares': '50', 'price': '106.28'}, {'name': 'CAT', 'shares': '150', 'price': '35.46'}, {'name': 'MSFT', 'shares': '200', 'price': '20.89'}, {'name': 'GE', 'shares': '95', 'price': '13.48'}, {'name': 'MSFT', 'shares': '50', 'price': '20.89'}, {'name': 'IBM', 'shares': '100', 'price': '106.28'}]\n",
      "=========================================================\n",
      "NAME SHARES PRICE\n",
      "AA 100 9.22\n",
      "IBM 50 106.28\n",
      "CAT 150 35.46\n",
      "MSFT 200 20.89\n",
      "GE 95 13.48\n",
      "MSFT 50 20.89\n",
      "IBM 100 106.28\n",
      "=========================================================\n"
     ]
    }
   ],
   "source": [
    "\"\"\"\n",
    "    # Pre-condition\n",
    "        1. Name\n",
    "        2. shares\n",
    "        3. price\n",
    "        4. updated price\n",
    "    # Method\n",
    "        1. csv\n",
    "        2. csv.reader\n",
    "        3. for\n",
    "        4. dictionary\n",
    "        5.list\n",
    "        6.list.append()\n",
    "        7.list.remove()\n",
    "        8.if\n",
    "        9.else\n",
    "    # Post\n",
    "        1. csv 파일 읽어오고 for를 통해서 각각 name, shares, price라는 키를 가진 값을 만든다.\n",
    "        2. price와 updated price를 비교해서 같다면 price 같지 않다면 updated price를 배치\n",
    "        3. 변경된 price와 shares를 * 연산자를 사용해서 Total value를 구한다. \n",
    "\"\"\"\n",
    "import csv\n",
    "\n",
    "with open(\"portfolio.csv\") as f:\n",
    "    result=[]\n",
    "    rows = csv.reader(f)\n",
    "    for row in rows:\n",
    "        stocks={\n",
    "            \"name\": row[0],\n",
    "            \"shares\":row[1],\n",
    "            \"price\": row[2],\n",
    "        }\n",
    "        result.append(stocks)\n",
    "    result.remove(result[0])\n",
    "result\n",
    "\n",
    "with open(\"prices.csv\") as p:\n",
    "    result_1=list()\n",
    "    rows = csv.reader(p)\n",
    "    for row in rows:\n",
    "        result_1.append(row)\n",
    "print(result)\n",
    "result_1.remove(result_1[30])\n",
    "result_2=list()\n",
    "for i in range(len(result)):\n",
    "    for j in range(len(result_1)):\n",
    "        if result[i][\"name\"] in result_1[j][0]:\n",
    "            result_2.append(result_1[j])\n",
    "print(result_2)\n",
    "\n",
    "for i in range(len(result)):\n",
    "    if float(result[i][\"price\"]) != float(result_2[i][1]):\n",
    "         result[i][\"price\"] = result_2[i][1]\n",
    "print(result)\n",
    "\n",
    "print(\"=========================================================\")\n",
    "print(\"NAME SHARES PRICE\")\n",
    "for i in range(len(result)):\n",
    "    print(result[i][\"name\"], end=\" \")\n",
    "    print(result[i][\"shares\"], end=\" \")\n",
    "    print(result[i][\"price\"])\n",
    "print(\"=========================================================\")    "
   ]
  }
 ],
 "metadata": {
  "kernelspec": {
   "display_name": "Python 3",
   "language": "python",
   "name": "python3"
  },
  "language_info": {
   "name": "python",
   "version": "3.11.2"
  },
  "orig_nbformat": 4
 },
 "nbformat": 4,
 "nbformat_minor": 2
}
