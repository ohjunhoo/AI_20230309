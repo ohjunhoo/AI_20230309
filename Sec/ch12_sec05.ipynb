{
 "cells": [
  {
   "cell_type": "code",
   "execution_count": 1,
   "id": "1b51d02f",
   "metadata": {},
   "outputs": [],
   "source": [
    "import pandas as pd \n",
    "import numpy as np\n",
    "\n",
    "pd_data = pd.read_csv('https://raw.githubusercontent.com/AugustLONG/ML01/master/01decisiontree/AllElectronics.csv')\n",
    "pd_data = pd_data.drop(\"RID\",axis=1)"
   ]
  },
  {
   "cell_type": "code",
   "execution_count": 2,
   "id": "06297531",
   "metadata": {},
   "outputs": [],
   "source": [
    "def get_info(df):\n",
    "    buy = df.loc[df[\"class_buys_computer\"]==\"yes\"]\n",
    "    not_buy = df.loc[df[\"class_buys_computer\"]==\"no\"]\n",
    "    x = np.array([len(buy)/len(df),len(not_buy)/len(df)])\n",
    "    y = np.log2(x[x!=0])\n",
    "    \n",
    "    info_all = - sum(x[x!=0] * y)\n",
    "    return info_all"
   ]
  },
  {
   "cell_type": "code",
   "execution_count": 3,
   "id": "d19b0838",
   "metadata": {},
   "outputs": [
    {
     "data": {
      "text/plain": [
       "0.9402859586706311"
      ]
     },
     "execution_count": 3,
     "metadata": {},
     "output_type": "execute_result"
    }
   ],
   "source": [
    "get_info(pd_data)"
   ]
  },
  {
   "cell_type": "code",
   "execution_count": 4,
   "id": "5593b7f8",
   "metadata": {},
   "outputs": [],
   "source": [
    "youth = pd_data.loc[pd_data['age'] == \"youth\"]\n",
    "senior = pd_data.loc[pd_data['age'] == \"senior\"]\n",
    "middle_aged = pd_data.loc[pd_data['age'] == \"middle_aged\"]"
   ]
  },
  {
   "cell_type": "code",
   "execution_count": 5,
   "id": "a3f3a624",
   "metadata": {},
   "outputs": [
    {
     "name": "stdout",
     "output_type": "stream",
     "text": [
      "0.9709505944546686\n"
     ]
    }
   ],
   "source": [
    "print(get_info(youth))"
   ]
  },
  {
   "cell_type": "code",
   "execution_count": 6,
   "id": "77048e12",
   "metadata": {},
   "outputs": [
    {
     "name": "stdout",
     "output_type": "stream",
     "text": [
      "0.9709505944546686\n"
     ]
    }
   ],
   "source": [
    "print(get_info(senior))"
   ]
  },
  {
   "cell_type": "code",
   "execution_count": 7,
   "id": "d1d65bca",
   "metadata": {},
   "outputs": [
    {
     "name": "stdout",
     "output_type": "stream",
     "text": [
      "-0.0\n"
     ]
    }
   ],
   "source": [
    "print(get_info(middle_aged))"
   ]
  },
  {
   "cell_type": "code",
   "execution_count": 8,
   "id": "89643b3c",
   "metadata": {},
   "outputs": [],
   "source": [
    "def get_attribute_info(df, attribute_name):\n",
    "    attribute_values = pd_data[attribute_name].unique()\n",
    "    get_infos = []\n",
    "    for value in attribute_values:\n",
    "        split_df = pd_data.loc[pd_data[attribute_name] == value]\n",
    "        \n",
    "        get_infos.append((len(split_df) / len(df)) * get_info(split_df))\n",
    "    \n",
    "    return sum(get_infos)"
   ]
  },
  {
   "cell_type": "code",
   "execution_count": 9,
   "id": "50984d0e",
   "metadata": {},
   "outputs": [
    {
     "data": {
      "text/plain": [
       "0.6935361388961918"
      ]
     },
     "execution_count": 9,
     "metadata": {},
     "output_type": "execute_result"
    }
   ],
   "source": [
    "get_attribute_info(pd_data, \"age\")"
   ]
  },
  {
   "cell_type": "code",
   "execution_count": 10,
   "id": "b937c32b",
   "metadata": {},
   "outputs": [
    {
     "data": {
      "text/plain": [
       "0.24674981977443933"
      ]
     },
     "execution_count": 10,
     "metadata": {},
     "output_type": "execute_result"
    }
   ],
   "source": [
    "get_info(pd_data) - get_attribute_info(pd_data, \"age\")"
   ]
  },
  {
   "cell_type": "code",
   "execution_count": 11,
   "id": "5649ada6",
   "metadata": {},
   "outputs": [
    {
     "data": {
      "text/plain": [
       "0.02922256565895487"
      ]
     },
     "execution_count": 11,
     "metadata": {},
     "output_type": "execute_result"
    }
   ],
   "source": [
    "get_info(pd_data) - get_attribute_info(pd_data, \"income\")"
   ]
  },
  {
   "cell_type": "code",
   "execution_count": 12,
   "id": "761b864e",
   "metadata": {},
   "outputs": [
    {
     "data": {
      "text/plain": [
       "0.15183550136234159"
      ]
     },
     "execution_count": 12,
     "metadata": {},
     "output_type": "execute_result"
    }
   ],
   "source": [
    "get_info(pd_data) - get_attribute_info(pd_data, \"student\")"
   ]
  },
  {
   "cell_type": "code",
   "execution_count": 13,
   "id": "feecbb90",
   "metadata": {},
   "outputs": [
    {
     "data": {
      "text/plain": [
       "0.04812703040826949"
      ]
     },
     "execution_count": 13,
     "metadata": {},
     "output_type": "execute_result"
    }
   ],
   "source": [
    "get_info(pd_data) - get_attribute_info(pd_data, \"credit_rating\")"
   ]
  },
  {
   "cell_type": "code",
   "execution_count": 14,
   "id": "04bd3f5a",
   "metadata": {},
   "outputs": [
    {
     "data": {
      "text/plain": [
       "-1.580026905978025"
      ]
     },
     "execution_count": 14,
     "metadata": {},
     "output_type": "execute_result"
    }
   ],
   "source": [
    "youth = pd_data.loc[pd_data['age'] == \"youth\"]\n",
    "get_info(youth) - get_attribute_info(youth, \"income\")"
   ]
  },
  {
   "cell_type": "code",
   "execution_count": 15,
   "id": "f0a6fb5c",
   "metadata": {},
   "outputs": [
    {
     "data": {
      "text/plain": [
       "-1.2367106860085422"
      ]
     },
     "execution_count": 15,
     "metadata": {},
     "output_type": "execute_result"
    }
   ],
   "source": [
    "get_info(youth) - get_attribute_info(youth, \"student\")"
   ]
  },
  {
   "cell_type": "code",
   "execution_count": 16,
   "id": "3942c492",
   "metadata": {},
   "outputs": [
    {
     "data": {
      "text/plain": [
       "-1.527094404679944"
      ]
     },
     "execution_count": 16,
     "metadata": {},
     "output_type": "execute_result"
    }
   ],
   "source": [
    "get_info(youth) - get_attribute_info(youth, \"credit_rating\")"
   ]
  },
  {
   "cell_type": "code",
   "execution_count": 17,
   "id": "e7fc60ea",
   "metadata": {},
   "outputs": [],
   "source": [
    "import pandas as pd\n",
    "\n",
    "train_df = pd.read_csv(\"c:/source/ch12/train.csv\")\n",
    "test_df = pd.read_csv(\"c:/source/ch12/test.csv\")\n",
    "\n",
    "train_id = train_df[\"PassengerId\"].values\n",
    "test_id = test_df[\"PassengerId\"].values\n",
    "\n",
    "all_df = train_df.append(test_df).set_index('PassengerId')"
   ]
  },
  {
   "cell_type": "code",
   "execution_count": 18,
   "id": "214191f2",
   "metadata": {},
   "outputs": [],
   "source": [
    "all_df[\"Sex\"] = all_df[\"Sex\"].replace({\"male\":0,\"female\":1})\n",
    "\n",
    "# 데이터 중 age 값의 빈칸의 값을 `class의 평균값으로 채운다.\n",
    "all_df[\"Age\"].fillna(\n",
    "    all_df.groupby(\"Pclass\")[\"Age\"].transform(\"mean\"), inplace=True)"
   ]
  },
  {
   "cell_type": "code",
   "execution_count": 19,
   "id": "3f0db589",
   "metadata": {},
   "outputs": [],
   "source": [
    "all_df[\"cabin_count\"] = all_df[\"Cabin\"].map(\n",
    "         lambda x : len(x.split()) if type(x) == str else 0)"
   ]
  },
  {
   "cell_type": "code",
   "execution_count": 20,
   "id": "21af2ccb",
   "metadata": {},
   "outputs": [],
   "source": [
    "def transform_status(x):\n",
    "    if \"Mrs\" in x or \"Ms\" in x:\n",
    "        return \"Mrs\" \n",
    "    elif \"Mr\" in x:\n",
    "        return \"Mr\"\n",
    "    elif \"Miss\" in x:\n",
    "        return \"Miss\"\n",
    "    elif \"Master\" in x:\n",
    "        return \"Master\"\n",
    "    elif \"Dr\" in x:\n",
    "        return \"Dr\"\n",
    "    elif \"Rev\" in x:\n",
    "        return \"Rev\"\n",
    "    elif \"Col\" in x:\n",
    "        return \"Col\"\n",
    "    else:\n",
    "        return \"0\"\n",
    "\n",
    "all_df[\"social_status\"] = all_df[\"Name\"].map(lambda x : transform_status(x))"
   ]
  },
  {
   "cell_type": "code",
   "execution_count": 21,
   "id": "fc9041d0",
   "metadata": {},
   "outputs": [
    {
     "data": {
      "text/plain": [
       "Mr        758\n",
       "Miss      258\n",
       "Mrs       203\n",
       "Master     61\n",
       "0           9\n",
       "Rev         8\n",
       "Dr          8\n",
       "Col         4\n",
       "Name: social_status, dtype: int64"
      ]
     },
     "execution_count": 21,
     "metadata": {},
     "output_type": "execute_result"
    }
   ],
   "source": [
    "all_df[\"social_status\"].value_counts()"
   ]
  },
  {
   "cell_type": "code",
   "execution_count": 22,
   "id": "34a02e95",
   "metadata": {},
   "outputs": [
    {
     "data": {
      "text/html": [
       "<div>\n",
       "<style scoped>\n",
       "    .dataframe tbody tr th:only-of-type {\n",
       "        vertical-align: middle;\n",
       "    }\n",
       "\n",
       "    .dataframe tbody tr th {\n",
       "        vertical-align: top;\n",
       "    }\n",
       "\n",
       "    .dataframe thead th {\n",
       "        text-align: right;\n",
       "    }\n",
       "</style>\n",
       "<table border=\"1\" class=\"dataframe\">\n",
       "  <thead>\n",
       "    <tr style=\"text-align: right;\">\n",
       "      <th></th>\n",
       "      <th>Survived</th>\n",
       "      <th>Pclass</th>\n",
       "      <th>Name</th>\n",
       "      <th>Sex</th>\n",
       "      <th>Age</th>\n",
       "      <th>SibSp</th>\n",
       "      <th>Parch</th>\n",
       "      <th>Ticket</th>\n",
       "      <th>Fare</th>\n",
       "      <th>Cabin</th>\n",
       "      <th>Embarked</th>\n",
       "      <th>cabin_count</th>\n",
       "      <th>social_status</th>\n",
       "    </tr>\n",
       "    <tr>\n",
       "      <th>PassengerId</th>\n",
       "      <th></th>\n",
       "      <th></th>\n",
       "      <th></th>\n",
       "      <th></th>\n",
       "      <th></th>\n",
       "      <th></th>\n",
       "      <th></th>\n",
       "      <th></th>\n",
       "      <th></th>\n",
       "      <th></th>\n",
       "      <th></th>\n",
       "      <th></th>\n",
       "      <th></th>\n",
       "    </tr>\n",
       "  </thead>\n",
       "  <tbody>\n",
       "    <tr>\n",
       "      <th>62</th>\n",
       "      <td>1.0</td>\n",
       "      <td>1</td>\n",
       "      <td>Icard, Miss. Amelie</td>\n",
       "      <td>1</td>\n",
       "      <td>38.0</td>\n",
       "      <td>0</td>\n",
       "      <td>0</td>\n",
       "      <td>113572</td>\n",
       "      <td>80.0</td>\n",
       "      <td>B28</td>\n",
       "      <td>NaN</td>\n",
       "      <td>1</td>\n",
       "      <td>Miss</td>\n",
       "    </tr>\n",
       "    <tr>\n",
       "      <th>830</th>\n",
       "      <td>1.0</td>\n",
       "      <td>1</td>\n",
       "      <td>Stone, Mrs. George Nelson (Martha Evelyn)</td>\n",
       "      <td>1</td>\n",
       "      <td>62.0</td>\n",
       "      <td>0</td>\n",
       "      <td>0</td>\n",
       "      <td>113572</td>\n",
       "      <td>80.0</td>\n",
       "      <td>B28</td>\n",
       "      <td>NaN</td>\n",
       "      <td>1</td>\n",
       "      <td>Mrs</td>\n",
       "    </tr>\n",
       "  </tbody>\n",
       "</table>\n",
       "</div>"
      ],
      "text/plain": [
       "             Survived  Pclass                                       Name  Sex  \\\n",
       "PassengerId                                                                     \n",
       "62                1.0       1                        Icard, Miss. Amelie    1   \n",
       "830               1.0       1  Stone, Mrs. George Nelson (Martha Evelyn)    1   \n",
       "\n",
       "              Age  SibSp  Parch  Ticket  Fare Cabin Embarked  cabin_count  \\\n",
       "PassengerId                                                                 \n",
       "62           38.0      0      0  113572  80.0   B28      NaN            1   \n",
       "830          62.0      0      0  113572  80.0   B28      NaN            1   \n",
       "\n",
       "            social_status  \n",
       "PassengerId                \n",
       "62                   Miss  \n",
       "830                   Mrs  "
      ]
     },
     "execution_count": 22,
     "metadata": {},
     "output_type": "execute_result"
    }
   ],
   "source": [
    "all_df[all_df[\"Embarked\"].isnull()]"
   ]
  },
  {
   "cell_type": "code",
   "execution_count": 23,
   "id": "cad0a81b",
   "metadata": {},
   "outputs": [],
   "source": [
    "all_df = all_df.drop([62,830])\n",
    "train_id =np.delete(train_id, [62-1,830-1])"
   ]
  },
  {
   "cell_type": "code",
   "execution_count": 24,
   "id": "3cc40d7f",
   "metadata": {},
   "outputs": [
    {
     "data": {
      "text/html": [
       "<div>\n",
       "<style scoped>\n",
       "    .dataframe tbody tr th:only-of-type {\n",
       "        vertical-align: middle;\n",
       "    }\n",
       "\n",
       "    .dataframe tbody tr th {\n",
       "        vertical-align: top;\n",
       "    }\n",
       "\n",
       "    .dataframe thead th {\n",
       "        text-align: right;\n",
       "    }\n",
       "</style>\n",
       "<table border=\"1\" class=\"dataframe\">\n",
       "  <thead>\n",
       "    <tr style=\"text-align: right;\">\n",
       "      <th></th>\n",
       "      <th>Survived</th>\n",
       "      <th>Pclass</th>\n",
       "      <th>Name</th>\n",
       "      <th>Sex</th>\n",
       "      <th>Age</th>\n",
       "      <th>SibSp</th>\n",
       "      <th>Parch</th>\n",
       "      <th>Ticket</th>\n",
       "      <th>Fare</th>\n",
       "      <th>Cabin</th>\n",
       "      <th>Embarked</th>\n",
       "      <th>cabin_count</th>\n",
       "      <th>social_status</th>\n",
       "    </tr>\n",
       "    <tr>\n",
       "      <th>PassengerId</th>\n",
       "      <th></th>\n",
       "      <th></th>\n",
       "      <th></th>\n",
       "      <th></th>\n",
       "      <th></th>\n",
       "      <th></th>\n",
       "      <th></th>\n",
       "      <th></th>\n",
       "      <th></th>\n",
       "      <th></th>\n",
       "      <th></th>\n",
       "      <th></th>\n",
       "      <th></th>\n",
       "    </tr>\n",
       "  </thead>\n",
       "  <tbody>\n",
       "    <tr>\n",
       "      <th>1044</th>\n",
       "      <td>NaN</td>\n",
       "      <td>3</td>\n",
       "      <td>Storey, Mr. Thomas</td>\n",
       "      <td>0</td>\n",
       "      <td>60.5</td>\n",
       "      <td>0</td>\n",
       "      <td>0</td>\n",
       "      <td>3701</td>\n",
       "      <td>NaN</td>\n",
       "      <td>NaN</td>\n",
       "      <td>S</td>\n",
       "      <td>0</td>\n",
       "      <td>Mr</td>\n",
       "    </tr>\n",
       "  </tbody>\n",
       "</table>\n",
       "</div>"
      ],
      "text/plain": [
       "             Survived  Pclass                Name  Sex   Age  SibSp  Parch  \\\n",
       "PassengerId                                                                  \n",
       "1044              NaN       3  Storey, Mr. Thomas    0  60.5      0      0   \n",
       "\n",
       "            Ticket  Fare Cabin Embarked  cabin_count social_status  \n",
       "PassengerId                                                         \n",
       "1044          3701   NaN   NaN        S            0            Mr  "
      ]
     },
     "execution_count": 24,
     "metadata": {},
     "output_type": "execute_result"
    }
   ],
   "source": [
    "all_df[all_df[\"Fare\"].isnull()]"
   ]
  },
  {
   "cell_type": "code",
   "execution_count": 25,
   "id": "de0e4c0b",
   "metadata": {},
   "outputs": [
    {
     "data": {
      "text/plain": [
       "Pclass  Sex\n",
       "1       0       69.888385\n",
       "        1      109.826644\n",
       "2       0       19.904946\n",
       "        1       23.234827\n",
       "3       0       12.415462\n",
       "        1       15.324250\n",
       "Name: Fare, dtype: float64"
      ]
     },
     "execution_count": 25,
     "metadata": {},
     "output_type": "execute_result"
    }
   ],
   "source": [
    "all_df.groupby([\"Pclass\",\"Sex\"])[\"Fare\"].mean()"
   ]
  },
  {
   "cell_type": "code",
   "execution_count": 26,
   "id": "cc79baec",
   "metadata": {},
   "outputs": [],
   "source": [
    "all_df.loc[all_df[\"Fare\"].isnull(), \"Fare\"] = 12.415462"
   ]
  },
  {
   "cell_type": "code",
   "execution_count": 27,
   "id": "770a6d27",
   "metadata": {},
   "outputs": [],
   "source": [
    "all_df[\"cabin_type\"] = all_df[\"Cabin\"].map(lambda x : x[0] if type(x) == str else \"99\")"
   ]
  },
  {
   "cell_type": "code",
   "execution_count": 28,
   "id": "5d913c54",
   "metadata": {},
   "outputs": [],
   "source": [
    "del all_df[\"Cabin\"]\n",
    "del all_df[\"Name\"]\n",
    "del all_df[\"Ticket\"]"
   ]
  },
  {
   "cell_type": "code",
   "execution_count": 29,
   "id": "d2edfa05",
   "metadata": {},
   "outputs": [],
   "source": [
    "y = all_df.loc[train_id, \"Survived\"].values\n",
    "del all_df[\"Survived\"]"
   ]
  },
  {
   "cell_type": "code",
   "execution_count": 30,
   "id": "c797a37e",
   "metadata": {},
   "outputs": [],
   "source": [
    "X_df = pd.get_dummies(all_df)\n",
    "X = X_df.values"
   ]
  },
  {
   "cell_type": "code",
   "execution_count": 31,
   "id": "9998e02f",
   "metadata": {},
   "outputs": [],
   "source": [
    "from sklearn.preprocessing import MinMaxScaler\n",
    "minmax_scaler = MinMaxScaler()\n",
    "\n",
    "minmax_scaler.fit(X)\n",
    "X = minmax_scaler.transform(X)"
   ]
  },
  {
   "cell_type": "code",
   "execution_count": 32,
   "id": "c14059cc",
   "metadata": {},
   "outputs": [],
   "source": [
    "X_train = X[:len(train_id)]\n",
    "X_test = X[len(train_id):]"
   ]
  },
  {
   "cell_type": "code",
   "execution_count": 33,
   "id": "4e24b421",
   "metadata": {},
   "outputs": [
    {
     "data": {
      "text/plain": [
       "<AxesSubplot:>"
      ]
     },
     "execution_count": 33,
     "metadata": {},
     "output_type": "execute_result"
    },
    {
     "data": {
      "image/png": "[encoded data removed]",
      "text/plain": [
       "<Figure size 432x288 with 1 Axes>"
      ]
     },
     "metadata": {
      "needs_background": "light"
     },
     "output_type": "display_data"
    }
   ],
   "source": [
    "from sklearn.tree import DecisionTreeClassifier\n",
    "\n",
    "from sklearn.model_selection import cross_val_score\n",
    "from sklearn.metrics import accuracy_score  \n",
    "\n",
    "test_accuracy = []\n",
    "train_accuracy = []\n",
    "for idx in range(3, 20):\n",
    "    df = DecisionTreeClassifier(min_samples_leaf=idx)\n",
    "    acc = cross_val_score(df, X_train, y, scoring=\"accuracy\", cv=5).mean()\n",
    "    train_accuracy.append(\n",
    "        accuracy_score(df.fit(X_train, y).predict(X_train), y))\n",
    "    test_accuracy.append(acc)\n",
    "\n",
    "result = pd.DataFrame(train_accuracy, index=range(3,20), columns=[\"train\"])\n",
    "result[\"test\"] = test_accuracy\n",
    "\n",
    "result.plot()"
   ]
  },
  {
   "cell_type": "code",
   "execution_count": 34,
   "id": "6abf1f9f",
   "metadata": {},
   "outputs": [],
   "source": [
    "from sklearn.pipeline import Pipeline\n",
    "from sklearn.pipeline import make_pipeline\n",
    "from sklearn.linear_model import LogisticRegression\n",
    "\n",
    "algorithmes = [LogisticRegression(), DecisionTreeClassifier()]\n",
    "\n",
    "c_params = [0.1,  5.0, 7.0, 10.0, 15.0, 20.0, 100.0]\n",
    "\n",
    "\n",
    "params = []\n",
    "params.append([{\n",
    "    \"solver\" : [\"saga\"],\n",
    "    \"penalty\" : [\"l1\"],\n",
    "    \"C\" : c_params\n",
    "    },{\n",
    "    \"solver\" : ['liblinear'],\n",
    "    \"penalty\" : [\"l2\"],\n",
    "    \"C\" : c_params\n",
    "    }\n",
    "    ])\n",
    "params.append({\n",
    "    \"criterion\" : [\"gini\", \"entropy\"],\n",
    "    \"max_depth\" : [10,8,7,6,5,4,3,2],\n",
    "    \"min_samples_leaf\": [1,2,3,4,5,6,7,8,9]})"
   ]
  },
  {
   "cell_type": "code",
   "execution_count": 35,
   "id": "7751c118",
   "metadata": {},
   "outputs": [
    {
     "name": "stdout",
     "output_type": "stream",
     "text": [
      "Fitting 5 folds for each of 14 candidates, totalling 70 fits\n",
      "Fitting 5 folds for each of 144 candidates, totalling 720 fits\n"
     ]
    }
   ],
   "source": [
    "from sklearn.model_selection import GridSearchCV\n",
    "from sklearn.metrics import classification_report, accuracy_score\n",
    "\n",
    "scoring = ['accuracy']\n",
    "estimator_results = []\n",
    "for i, (estimator, params) in enumerate(zip(algorithmes,params)):\n",
    "    gs_estimator = GridSearchCV(\n",
    "            refit=\"accuracy\", estimator=estimator,param_grid=params, \n",
    "            scoring=scoring, cv=5, verbose=1, n_jobs=4)\n",
    "\n",
    "    gs_estimator.fit(X_train, y)\n",
    "    estimator_results.append(gs_estimator)"
   ]
  },
  {
   "cell_type": "code",
   "execution_count": 36,
   "id": "68fa56cc",
   "metadata": {},
   "outputs": [
    {
     "data": {
      "text/plain": [
       "0.8268075922046594"
      ]
     },
     "execution_count": 36,
     "metadata": {},
     "output_type": "execute_result"
    }
   ],
   "source": [
    "estimator_results[0].best_score_"
   ]
  },
  {
   "cell_type": "code",
   "execution_count": 37,
   "id": "db7be2a3",
   "metadata": {},
   "outputs": [
    {
     "data": {
      "text/plain": [
       "0.8358154002412238"
      ]
     },
     "execution_count": 37,
     "metadata": {},
     "output_type": "execute_result"
    }
   ],
   "source": [
    "estimator_results[1].best_score_"
   ]
  },
  {
   "cell_type": "code",
   "execution_count": 38,
   "id": "e9d56085",
   "metadata": {},
   "outputs": [],
   "source": [
    "import pandas as pd\n",
    "from pandas import DataFrame\n",
    "from collections import defaultdict\n",
    "\n",
    "result_df_dict = {}\n",
    "\n",
    "result_attributes = [\"model\", \"accuracy\", \"penalty\", \"solver\", \"C\", \"criterion\", \"max_depth\", \"min_samples_leaf\"]\n",
    "result_dict = defaultdict(list)\n",
    "\n",
    "algorithm_name= [\"LogisticRegression\", \"DecisionTreeClassifier\"]\n",
    "\n",
    "for i, estimators in enumerate(estimator_results):\n",
    "    number_of_estimators = len(estimators.cv_results_[\"mean_fit_time\"])\n",
    "\n",
    "    for idx_estimator in range(number_of_estimators):\n",
    "        result_dict[\"model\"].append(algorithm_name[i])\n",
    "        result_dict[\"accuracy\"].append(\n",
    "            estimators.cv_results_[\"mean_test_accuracy\"][idx_estimator])\n",
    "            \n",
    "    for param_value in estimators.cv_results_[\"params\"]:\n",
    "        for k,v in param_value.items():\n",
    "            result_dict[k].append(v)\n",
    "    for attr_name in result_attributes:\n",
    "        if len(result_dict[attr_name]) < len(result_dict[\"accuracy\"]):\n",
    "            result_dict[attr_name].extend([None for i in range(number_of_estimators)])"
   ]
  },
  {
   "cell_type": "code",
   "execution_count": 39,
   "id": "0dd29262",
   "metadata": {},
   "outputs": [
    {
     "data": {
      "text/html": [
       "<div>\n",
       "<style scoped>\n",
       "    .dataframe tbody tr th:only-of-type {\n",
       "        vertical-align: middle;\n",
       "    }\n",
       "\n",
       "    .dataframe tbody tr th {\n",
       "        vertical-align: top;\n",
       "    }\n",
       "\n",
       "    .dataframe thead th {\n",
       "        text-align: right;\n",
       "    }\n",
       "</style>\n",
       "<table border=\"1\" class=\"dataframe\">\n",
       "  <thead>\n",
       "    <tr style=\"text-align: right;\">\n",
       "      <th></th>\n",
       "      <th>model</th>\n",
       "      <th>accuracy</th>\n",
       "      <th>penalty</th>\n",
       "      <th>solver</th>\n",
       "      <th>C</th>\n",
       "      <th>criterion</th>\n",
       "      <th>max_depth</th>\n",
       "      <th>min_samples_leaf</th>\n",
       "    </tr>\n",
       "  </thead>\n",
       "  <tbody>\n",
       "    <tr>\n",
       "      <th>138</th>\n",
       "      <td>DecisionTreeClassifier</td>\n",
       "      <td>0.835815</td>\n",
       "      <td>None</td>\n",
       "      <td>None</td>\n",
       "      <td>NaN</td>\n",
       "      <td>entropy</td>\n",
       "      <td>4.0</td>\n",
       "      <td>8.0</td>\n",
       "    </tr>\n",
       "    <tr>\n",
       "      <th>137</th>\n",
       "      <td>DecisionTreeClassifier</td>\n",
       "      <td>0.835815</td>\n",
       "      <td>None</td>\n",
       "      <td>None</td>\n",
       "      <td>NaN</td>\n",
       "      <td>entropy</td>\n",
       "      <td>4.0</td>\n",
       "      <td>7.0</td>\n",
       "    </tr>\n",
       "    <tr>\n",
       "      <th>132</th>\n",
       "      <td>DecisionTreeClassifier</td>\n",
       "      <td>0.832445</td>\n",
       "      <td>None</td>\n",
       "      <td>None</td>\n",
       "      <td>NaN</td>\n",
       "      <td>entropy</td>\n",
       "      <td>4.0</td>\n",
       "      <td>2.0</td>\n",
       "    </tr>\n",
       "    <tr>\n",
       "      <th>135</th>\n",
       "      <td>DecisionTreeClassifier</td>\n",
       "      <td>0.832432</td>\n",
       "      <td>None</td>\n",
       "      <td>None</td>\n",
       "      <td>NaN</td>\n",
       "      <td>entropy</td>\n",
       "      <td>4.0</td>\n",
       "      <td>5.0</td>\n",
       "    </tr>\n",
       "    <tr>\n",
       "      <th>136</th>\n",
       "      <td>DecisionTreeClassifier</td>\n",
       "      <td>0.832432</td>\n",
       "      <td>None</td>\n",
       "      <td>None</td>\n",
       "      <td>NaN</td>\n",
       "      <td>entropy</td>\n",
       "      <td>4.0</td>\n",
       "      <td>6.0</td>\n",
       "    </tr>\n",
       "    <tr>\n",
       "      <th>131</th>\n",
       "      <td>DecisionTreeClassifier</td>\n",
       "      <td>0.831321</td>\n",
       "      <td>None</td>\n",
       "      <td>None</td>\n",
       "      <td>NaN</td>\n",
       "      <td>entropy</td>\n",
       "      <td>4.0</td>\n",
       "      <td>1.0</td>\n",
       "    </tr>\n",
       "    <tr>\n",
       "      <th>134</th>\n",
       "      <td>DecisionTreeClassifier</td>\n",
       "      <td>0.831321</td>\n",
       "      <td>None</td>\n",
       "      <td>None</td>\n",
       "      <td>NaN</td>\n",
       "      <td>entropy</td>\n",
       "      <td>4.0</td>\n",
       "      <td>4.0</td>\n",
       "    </tr>\n",
       "    <tr>\n",
       "      <th>139</th>\n",
       "      <td>DecisionTreeClassifier</td>\n",
       "      <td>0.831289</td>\n",
       "      <td>None</td>\n",
       "      <td>None</td>\n",
       "      <td>NaN</td>\n",
       "      <td>entropy</td>\n",
       "      <td>4.0</td>\n",
       "      <td>9.0</td>\n",
       "    </tr>\n",
       "    <tr>\n",
       "      <th>102</th>\n",
       "      <td>DecisionTreeClassifier</td>\n",
       "      <td>0.831283</td>\n",
       "      <td>None</td>\n",
       "      <td>None</td>\n",
       "      <td>NaN</td>\n",
       "      <td>entropy</td>\n",
       "      <td>8.0</td>\n",
       "      <td>8.0</td>\n",
       "    </tr>\n",
       "    <tr>\n",
       "      <th>133</th>\n",
       "      <td>DecisionTreeClassifier</td>\n",
       "      <td>0.830185</td>\n",
       "      <td>None</td>\n",
       "      <td>None</td>\n",
       "      <td>NaN</td>\n",
       "      <td>entropy</td>\n",
       "      <td>4.0</td>\n",
       "      <td>3.0</td>\n",
       "    </tr>\n",
       "  </tbody>\n",
       "</table>\n",
       "</div>"
      ],
      "text/plain": [
       "                      model  accuracy penalty solver   C criterion  max_depth  \\\n",
       "138  DecisionTreeClassifier  0.835815    None   None NaN   entropy        4.0   \n",
       "137  DecisionTreeClassifier  0.835815    None   None NaN   entropy        4.0   \n",
       "132  DecisionTreeClassifier  0.832445    None   None NaN   entropy        4.0   \n",
       "135  DecisionTreeClassifier  0.832432    None   None NaN   entropy        4.0   \n",
       "136  DecisionTreeClassifier  0.832432    None   None NaN   entropy        4.0   \n",
       "131  DecisionTreeClassifier  0.831321    None   None NaN   entropy        4.0   \n",
       "134  DecisionTreeClassifier  0.831321    None   None NaN   entropy        4.0   \n",
       "139  DecisionTreeClassifier  0.831289    None   None NaN   entropy        4.0   \n",
       "102  DecisionTreeClassifier  0.831283    None   None NaN   entropy        8.0   \n",
       "133  DecisionTreeClassifier  0.830185    None   None NaN   entropy        4.0   \n",
       "\n",
       "     min_samples_leaf  \n",
       "138               8.0  \n",
       "137               7.0  \n",
       "132               2.0  \n",
       "135               5.0  \n",
       "136               6.0  \n",
       "131               1.0  \n",
       "134               4.0  \n",
       "139               9.0  \n",
       "102               8.0  \n",
       "133               3.0  "
      ]
     },
     "execution_count": 39,
     "metadata": {},
     "output_type": "execute_result"
    }
   ],
   "source": [
    "result_df = DataFrame(result_dict, columns=result_attributes)\n",
    "result_df.sort_values(\"accuracy\",ascending=False).head(n=10)"
   ]
  },
  {
   "cell_type": "code",
   "execution_count": 40,
   "id": "28d98521",
   "metadata": {},
   "outputs": [
    {
     "data": {
      "text/plain": [
       "array([0.13376524, 0.06257368, 0.04358764, 0.        , 0.        ,\n",
       "       0.18883257, 0.01350244, 0.        , 0.        , 0.        ,\n",
       "       0.        , 0.        , 0.        , 0.04383854, 0.        ,\n",
       "       0.5138999 , 0.        , 0.        , 0.        , 0.        ,\n",
       "       0.        , 0.        , 0.        , 0.        , 0.        ,\n",
       "       0.        , 0.        ])"
      ]
     },
     "execution_count": 40,
     "metadata": {},
     "output_type": "execute_result"
    }
   ],
   "source": [
    "estimator_results[1].best_estimator_.feature_importances_"
   ]
  },
  {
   "cell_type": "code",
   "execution_count": 41,
   "id": "48652898",
   "metadata": {},
   "outputs": [
    {
     "data": {
      "text/plain": [
       "Index(['Pclass', 'Sex', 'Age', 'SibSp', 'Parch', 'Fare', 'cabin_count',\n",
       "       'Embarked_C', 'Embarked_Q', 'Embarked_S', 'social_status_0',\n",
       "       'social_status_Col', 'social_status_Dr', 'social_status_Master',\n",
       "       'social_status_Miss', 'social_status_Mr', 'social_status_Mrs',\n",
       "       'social_status_Rev', 'cabin_type_99', 'cabin_type_A', 'cabin_type_B',\n",
       "       'cabin_type_C', 'cabin_type_D', 'cabin_type_E', 'cabin_type_F',\n",
       "       'cabin_type_G', 'cabin_type_T'],\n",
       "      dtype='object')"
      ]
     },
     "execution_count": 41,
     "metadata": {},
     "output_type": "execute_result"
    }
   ],
   "source": [
    "X_df.columns"
   ]
  },
  {
   "cell_type": "code",
   "execution_count": 42,
   "id": "3ef1480f",
   "metadata": {},
   "outputs": [
    {
     "data": {
      "text/plain": [
       "array([15,  5,  0,  1, 13,  2,  6, 21, 20, 24,  3,  4, 23,  7,  8,  9, 10,\n",
       "       11, 12, 25, 14, 22, 16, 17, 18, 19, 26], dtype=int64)"
      ]
     },
     "execution_count": 42,
     "metadata": {},
     "output_type": "execute_result"
    }
   ],
   "source": [
    "coef = estimator_results[1].best_estimator_.feature_importances_\n",
    "coef.argsort()[::-1]"
   ]
  },
  {
   "cell_type": "code",
   "execution_count": 43,
   "id": "48c4bb4b",
   "metadata": {},
   "outputs": [
    {
     "data": {
      "text/plain": [
       "Index(['social_status_Mr', 'Fare', 'Pclass', 'Sex', 'social_status_Master'], dtype='object')"
      ]
     },
     "execution_count": 43,
     "metadata": {},
     "output_type": "execute_result"
    }
   ],
   "source": [
    "X_df.columns[coef.argsort()[::-1]][:5]"
   ]
  },
  {
   "cell_type": "code",
   "execution_count": 44,
   "id": "ac81c591",
   "metadata": {},
   "outputs": [
    {
     "name": "stdout",
     "output_type": "stream",
     "text": [
      "Requirement already satisfied: pydotplus in c:\\miniconda3\\envs\\ml\\lib\\site-packages (2.0.2)\n",
      "Requirement already satisfied: pyparsing>=2.0.1 in c:\\miniconda3\\envs\\ml\\lib\\site-packages (from pydotplus) (3.0.4)\n"
     ]
    }
   ],
   "source": [
    "!pip install pydotplus"
   ]
  },
  {
   "cell_type": "code",
   "execution_count": 45,
   "id": "c8319d48",
   "metadata": {},
   "outputs": [],
   "source": [
    "import os\n",
    "os.environ[\"PATH\"] += os.pathsep + 'C:\\Program Files\\Graphviz/bin/'"
   ]
  },
  {
   "cell_type": "code",
   "execution_count": 46,
   "id": "45c01a56",
   "metadata": {},
   "outputs": [
    {
     "data": {
      "image/png": "[encoded data removed]",
      "text/plain": [
       "<IPython.core.display.Image object>"
      ]
     },
     "execution_count": 46,
     "metadata": {},
     "output_type": "execute_result"
    }
   ],
   "source": [
    "import pydotplus\n",
    "from six import StringIO\n",
    "from sklearn import tree\n",
    "\n",
    "best_tree = estimator_results[1].best_estimator_\n",
    "column_names = X_df.columns\n",
    "\n",
    "dot_data = StringIO()\n",
    "tree.export_graphviz(best_tree, out_file=dot_data, feature_names=column_names) \n",
    "\n",
    "graph = pydotplus.pydotplus.graph_from_dot_data(dot_data.getvalue())\n",
    "graph.write_png(\"titanic.png\")\n",
    "from IPython.core.display import Image \n",
    "Image(filename='titanic.png')"
   ]
  },
  {
   "cell_type": "code",
   "execution_count": null,
   "id": "6da9c8c7",
   "metadata": {},
   "outputs": [],
   "source": []
  }
 ],
 "metadata": {
  "kernelspec": {
   "display_name": "Python 3 (ipykernel)",
   "language": "python",
   "name": "python3"
  },
  "language_info": {
   "codemirror_mode": {
    "name": "ipython",
    "version": 3
   },
   "file_extension": ".py",
   "mimetype": "text/x-python",
   "name": "python",
   "nbconvert_exporter": "python",
   "pygments_lexer": "ipython3",
   "version": "3.9.7"
  }
 },
 "nbformat": 4,
 "nbformat_minor": 5
}
