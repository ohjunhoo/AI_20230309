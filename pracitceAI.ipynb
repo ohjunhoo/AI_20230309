{
 "cells": [
  {
   "cell_type": "code",
   "execution_count": 8,
   "metadata": {},
   "outputs": [
    {
     "name": "stdout",
     "output_type": "stream",
     "text": [
      "*****\n"
     ]
    }
   ],
   "source": [
    "#사용자로 부터 값을 입력받아서 그 수 만큼 *를 프린트하기\n",
    "\n",
    "number = int(input())\n",
    "print(\"*\" * number)"
   ]
  },
  {
   "cell_type": "code",
   "execution_count": 1,
   "metadata": {},
   "outputs": [
    {
     "name": "stdout",
     "output_type": "stream",
     "text": [
      "15\n",
      "False\n"
     ]
    }
   ],
   "source": [
    "pset_time = 15\n",
    "sleep_time = 8\n",
    "\n",
    "\"\"\" \n",
    "sleep_time이 pset_time 보다 클 경우만 sleep_time을 출력하고,\n",
    "나머지는 pset_time을 출력하라\n",
    "\"\"\"\n",
    "if sleep_time > pset_time:\n",
    "    print(sleep_time)\n",
    "else:\n",
    "    print(pset_time)\n",
    "derive =True\n",
    "drink = False\n",
    "both = drink and derive\n",
    "\n",
    "print(both)"
   ]
  },
  {
   "cell_type": "code",
   "execution_count": 5,
   "metadata": {},
   "outputs": [
    {
     "name": "stdout",
     "output_type": "stream",
     "text": [
      "15\n"
     ]
    }
   ],
   "source": [
    "pset_time = 15\n",
    "sleep_time = 8\n",
    "\n",
    "print(sleep_time) if sleep_time > pset_time else print(pset_time)"
   ]
  },
  {
   "cell_type": "code",
   "execution_count": 8,
   "metadata": {},
   "outputs": [
    {
     "name": "stdout",
     "output_type": "stream",
     "text": [
      "x and y equal\n",
      "thanks\n"
     ]
    }
   ],
   "source": [
    "x = int(input())\n",
    "y = int(input())\n",
    "if x == y:\n",
    "    print(\"x and y equal\")\n",
    "    if y != 0:\n",
    "        print(\"therefore, x/y is\", x/y)\n",
    "elif x < y:\n",
    "    print(\"x is smaller\")\n",
    "else:\n",
    "    print(\"y is smaller\")\n",
    "print(\"thanks\")"
   ]
  },
  {
   "cell_type": "code",
   "execution_count": 10,
   "metadata": {},
   "outputs": [
    {
     "name": "stdout",
     "output_type": "stream",
     "text": [
      "5050\n"
     ]
    }
   ],
   "source": [
    "mysum =0\n",
    "for i in range(1,101):\n",
    "    mysum += i\n",
    "print(mysum)"
   ]
  },
  {
   "cell_type": "code",
   "execution_count": 21,
   "metadata": {},
   "outputs": [
    {
     "name": "stdout",
     "output_type": "stream",
     "text": [
      "10\n",
      "9\n",
      "8\n",
      "7\n",
      "6\n",
      "5\n",
      "4\n",
      "3\n",
      "2\n",
      "1\n",
      "0\n",
      "you failed to enter nonnegative number\n"
     ]
    }
   ],
   "source": [
    "# \n",
    "number = int(input())\n",
    "while number >= 0:\n",
    "    print(number)\n",
    "    number-=1\n",
    "    if number < 0:\n",
    "        print(\"you failed to enter nonnegative number\")\n",
    "        break\n",
    " \n",
    "    "
   ]
  },
  {
   "cell_type": "code",
   "execution_count": 5,
   "metadata": {},
   "outputs": [
    {
     "name": "stdout",
     "output_type": "stream",
     "text": [
      "H는 1번 자리에 있습니다\n",
      "e는 2번 자리에 있습니다\n",
      "l는 3번 자리에 있습니다\n",
      "l는 4번 자리에 있습니다\n",
      "o는 5번 자리에 있습니다\n",
      " 는 6번 자리에 있습니다\n",
      "w는 7번 자리에 있습니다\n",
      "o는 8번 자리에 있습니다\n",
      "r는 9번 자리에 있습니다\n",
      "l는 10번 자리에 있습니다\n",
      "d는 11번 자리에 있습니다\n"
     ]
    }
   ],
   "source": [
    "s = \"Hello world\"\n",
    "index=1\n",
    "for i in s:\n",
    "    print(\"{}는 {}번 자리에 있습니다\".format(i,index))\n",
    "    index+=1\n",
    "    "
   ]
  },
  {
   "cell_type": "code",
   "execution_count": 10,
   "metadata": {},
   "outputs": [
    {
     "name": "stdout",
     "output_type": "stream",
     "text": [
      "1\n",
      "3\n",
      "5\n",
      "7\n",
      "9\n",
      "=======\n",
      "0\n",
      "2\n",
      "4\n",
      "6\n",
      "8\n"
     ]
    }
   ],
   "source": [
    "for i in range(1,10,2):\n",
    "    print(i)\n",
    "print(\"=======\")\n",
    "for i in range(0,10,2):\n",
    "    print(i)"
   ]
  },
  {
   "cell_type": "code",
   "execution_count": 17,
   "metadata": {},
   "outputs": [
    {
     "name": "stdout",
     "output_type": "stream",
     "text": [
      "10\n",
      "10\n",
      "commom letter m,m\n",
      "commom letter i,i\n",
      "commom letter t,t\n",
      "commom letter  , \n",
      "commom letter u,u\n",
      "commom letter  , \n",
      "commom letter r,r\n"
     ]
    }
   ],
   "source": [
    "s1 =\"mit u rock\"\n",
    "s2 =\"i rule mit\"\n",
    "print(len(s1))\n",
    "print(len(s2))\n",
    "if len(s1) == len(s2):\n",
    "    for char1 in s1:\n",
    "        for char2 in s2:\n",
    "            if char1 == char2:\n",
    "                print(\"commom letter {},{}\".format(char1, char2))\n",
    "                break"
   ]
  },
  {
   "cell_type": "code",
   "execution_count": 9,
   "metadata": {},
   "outputs": [
    {
     "name": "stdout",
     "output_type": "stream",
     "text": [
      "10 is not a perfect cube\n"
     ]
    }
   ],
   "source": [
    "cube=int(input())\n",
    "\n",
    "for g in range(abs(cube)+1):\n",
    "    if g**3 >= abs(cube):\n",
    "        break\n",
    "if g**3 != abs(cube):\n",
    "    print(cube, 'is not a perfect cube')\n",
    "else:\n",
    "    if cube < 0:\n",
    "        g =-g\n",
    "        print(\"Cube root of\"+str(cube)+\"is\"+str(g))"
   ]
  },
  {
   "cell_type": "code",
   "execution_count": 18,
   "metadata": {},
   "outputs": [
    {
     "name": "stdout",
     "output_type": "stream",
     "text": [
      "num_g = 1\n",
      "0.007999999999\n",
      "num_g = 2\n",
      "0.007999999992\n",
      "num_g = 3\n",
      "0.007999999973\n",
      "num_g = 4\n",
      "0.007999999936\n",
      "num_g = 5\n",
      "0.007999999875\n",
      "num_g = 6\n",
      "0.007999999784000001\n",
      "num_g = 7\n",
      "0.007999999657\n",
      "num_g = 8\n",
      "0.007999999488\n",
      "num_g = 9\n",
      "0.007999999271000001\n",
      "num_g = 10\n",
      "0.007999999\n",
      "num_g = 11\n",
      "0.007999998669\n",
      "num_g = 12\n",
      "0.007999998272\n",
      "num_g = 13\n",
      "0.007999997803\n",
      "num_g = 14\n",
      "0.007999997256\n",
      "num_g = 15\n",
      "0.007999996625\n",
      "num_g = 16\n",
      "0.007999995904000001\n",
      "num_g = 17\n",
      "0.007999995087\n",
      "num_g = 18\n",
      "0.007999994168000001\n",
      "num_g = 19\n",
      "0.007999993141\n",
      "num_g = 20\n",
      "0.007999992000000001\n",
      "num_g = 21\n",
      "0.007999990739\n",
      "num_g = 22\n",
      "0.007999989352\n",
      "num_g = 23\n",
      "0.007999987833\n",
      "num_g = 24\n",
      "0.007999986176\n",
      "num_g = 25\n",
      "0.007999984375\n",
      "num_g = 26\n",
      "0.007999982424000001\n",
      "num_g = 27\n",
      "0.007999980317\n",
      "num_g = 28\n",
      "0.007999978048\n",
      "num_g = 29\n",
      "0.007999975611\n",
      "num_g = 30\n",
      "0.007999973\n",
      "num_g = 31\n",
      "0.007999970209\n",
      "num_g = 32\n",
      "0.007999967232000001\n",
      "num_g = 33\n",
      "0.007999964063\n",
      "num_g = 34\n",
      "0.007999960696\n",
      "num_g = 35\n",
      "0.007999957125\n",
      "num_g = 36\n",
      "0.007999953344000001\n",
      "num_g = 37\n",
      "0.007999949347000001\n",
      "num_g = 38\n",
      "0.007999945128\n",
      "num_g = 39\n",
      "0.007999940681\n",
      "num_g = 40\n",
      "0.007999936000000001\n",
      "num_g = 41\n",
      "0.007999931079\n",
      "num_g = 42\n",
      "0.007999925912\n",
      "num_g = 43\n",
      "0.007999920493\n",
      "num_g = 44\n",
      "0.007999914816\n",
      "num_g = 45\n",
      "0.007999908875\n",
      "num_g = 46\n",
      "0.007999902664\n",
      "num_g = 47\n",
      "0.007999896177\n",
      "num_g = 48\n",
      "0.007999889408\n",
      "num_g = 49\n",
      "0.007999882351\n",
      "num_g = 50\n",
      "0.007999875\n",
      "num_g = 51\n",
      "0.007999867349\n",
      "num_g = 52\n",
      "0.007999859392\n",
      "num_g = 53\n",
      "0.007999851123\n",
      "num_g = 54\n",
      "0.007999842536\n",
      "num_g = 55\n",
      "0.007999833625000001\n",
      "num_g = 56\n",
      "0.007999824384\n",
      "num_g = 57\n",
      "0.007999814807\n",
      "num_g = 58\n",
      "0.007999804888000001\n",
      "num_g = 59\n",
      "0.007999794621\n",
      "num_g = 60\n",
      "0.007999784\n",
      "num_g = 61\n",
      "0.007999773019\n",
      "num_g = 62\n",
      "0.007999761672\n",
      "num_g = 63\n",
      "0.007999749953\n",
      "num_g = 64\n",
      "0.007999737856\n",
      "num_g = 65\n",
      "0.007999725375\n",
      "num_g = 66\n",
      "0.007999712504\n",
      "num_g = 67\n",
      "0.007999699237\n",
      "num_g = 68\n",
      "0.007999685568\n",
      "num_g = 69\n",
      "0.007999671491000001\n",
      "num_g = 70\n",
      "0.007999657\n",
      "num_g = 71\n",
      "0.007999642089\n",
      "num_g = 72\n",
      "0.007999626752\n",
      "num_g = 73\n",
      "0.007999610983\n",
      "num_g = 74\n",
      "0.007999594776\n",
      "num_g = 75\n",
      "0.007999578125\n",
      "num_g = 76\n",
      "0.007999561024\n",
      "num_g = 77\n",
      "0.007999543467\n",
      "num_g = 78\n",
      "0.007999525448\n",
      "num_g = 79\n",
      "0.007999506961\n",
      "num_g = 80\n",
      "0.007999488\n",
      "Failed on cube root of 0.008\n"
     ]
    }
   ],
   "source": [
    "cube = 0.008\n",
    "epsilon = 0.001\n",
    "g= 0.0\n",
    "increament = 0.0001\n",
    "num_g=0\n",
    "\n",
    "while abs(g**3-cube) >= epsilon and g <= cube:\n",
    "    g += increament\n",
    "    num_g +=1\n",
    "    print('num_g =', num_g)\n",
    "    print(abs(g**3-cube))\n",
    "if abs(g**3 - cube) >= epsilon:\n",
    "    print('Failed on cube root of', cube) \n",
    "else:\n",
    "    print(g, 'is close to the cube root of', cube)\n"
   ]
  }
 ],
 "metadata": {
  "kernelspec": {
   "display_name": "base",
   "language": "python",
   "name": "python3"
  },
  "language_info": {
   "codemirror_mode": {
    "name": "ipython",
    "version": 3
   },
   "file_extension": ".py",
   "mimetype": "text/x-python",
   "name": "python",
   "nbconvert_exporter": "python",
   "pygments_lexer": "ipython3",
   "version": "3.11.2"
  },
  "orig_nbformat": 4
 },
 "nbformat": 4,
 "nbformat_minor": 2
}
