{
 "cells": [
  {
   "cell_type": "code",
   "execution_count": 1,
   "id": "35419337",
   "metadata": {},
   "outputs": [],
   "source": [
    "from pandas import Series, DataFrame\n",
    "import pandas as pd\n",
    "import numpy as np\n",
    "\n",
    "viagra_spam = {'viagra': [1,0,0,0,0,0,0,0,1,1,1,0,0,1,0,0,0,0,0,1],\n",
    "               'spam': [1,0,0,0,0,0,1,0,1,0, 0,0,0,0,0,0,0,1,1,1]}\n",
    "df = pd.DataFrame(viagra_spam, columns = ['viagra', 'spam'])\n",
    "np_data = df.values"
   ]
  },
  {
   "cell_type": "code",
   "execution_count": 2,
   "id": "6fda7344",
   "metadata": {},
   "outputs": [
    {
     "data": {
      "text/plain": [
       "0.15"
      ]
     },
     "execution_count": 2,
     "metadata": {},
     "output_type": "execute_result"
    }
   ],
   "source": [
    "sum((np_data[:, 0] == 1) & (np_data[:, 1] == 1)) / 20"
   ]
  },
  {
   "cell_type": "code",
   "execution_count": 3,
   "id": "0649d73b",
   "metadata": {},
   "outputs": [
    {
     "data": {
      "text/plain": [
       "0.3"
      ]
     },
     "execution_count": 3,
     "metadata": {},
     "output_type": "execute_result"
    }
   ],
   "source": [
    "p_viagra = sum(np_data[:, 0] == 1) / len(np_data)\n",
    "p_viagra"
   ]
  },
  {
   "cell_type": "code",
   "execution_count": 4,
   "id": "aa888416",
   "metadata": {},
   "outputs": [
    {
     "data": {
      "text/plain": [
       "0.3"
      ]
     },
     "execution_count": 4,
     "metadata": {},
     "output_type": "execute_result"
    }
   ],
   "source": [
    "p_spam = sum(np_data[:, 1] == 1) / len(np_data)\n",
    "p_spam"
   ]
  },
  {
   "cell_type": "code",
   "execution_count": 5,
   "id": "f896727d",
   "metadata": {},
   "outputs": [
    {
     "data": {
      "text/plain": [
       "0.15"
      ]
     },
     "execution_count": 5,
     "metadata": {},
     "output_type": "execute_result"
    }
   ],
   "source": [
    "p_v_cap_s = sum((np_data[:, 0] == 1) & (np_data[:, 1] == 1)) / len(np_data)\n",
    "p_v_cap_s"
   ]
  },
  {
   "cell_type": "code",
   "execution_count": 6,
   "id": "bda437d7",
   "metadata": {},
   "outputs": [
    {
     "data": {
      "text/plain": [
       "0.15"
      ]
     },
     "execution_count": 6,
     "metadata": {},
     "output_type": "execute_result"
    }
   ],
   "source": [
    "p_n_v_cap_s = sum((np_data[:, 0] == 0) & (np_data[:, 1] == 1)) / len(np_data)\n",
    "p_n_v_cap_s"
   ]
  },
  {
   "cell_type": "code",
   "execution_count": 7,
   "id": "9bfc7a08",
   "metadata": {},
   "outputs": [
    {
     "data": {
      "text/plain": [
       "0.5"
      ]
     },
     "execution_count": 7,
     "metadata": {},
     "output_type": "execute_result"
    }
   ],
   "source": [
    "p_spam * (p_v_cap_s / p_spam ) / p_viagra"
   ]
  },
  {
   "cell_type": "code",
   "execution_count": 8,
   "id": "228cc642",
   "metadata": {},
   "outputs": [
    {
     "data": {
      "text/plain": [
       "0.2142857142857143"
      ]
     },
     "execution_count": 8,
     "metadata": {},
     "output_type": "execute_result"
    }
   ],
   "source": [
    "p_spam * (p_n_v_cap_s / p_spam ) / (1-p_viagra)"
   ]
  },
  {
   "cell_type": "code",
   "execution_count": null,
   "id": "764153d8",
   "metadata": {},
   "outputs": [],
   "source": []
  }
 ],
 "metadata": {
  "kernelspec": {
   "display_name": "Python 3 (ipykernel)",
   "language": "python",
   "name": "python3"
  },
  "language_info": {
   "codemirror_mode": {
    "name": "ipython",
    "version": 3
   },
   "file_extension": ".py",
   "mimetype": "text/x-python",
   "name": "python",
   "nbconvert_exporter": "python",
   "pygments_lexer": "ipython3",
   "version": "3.10.10"
  }
 },
 "nbformat": 4,
 "nbformat_minor": 5
}
