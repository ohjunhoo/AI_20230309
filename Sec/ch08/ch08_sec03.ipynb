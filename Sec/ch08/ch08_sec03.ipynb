{
 "cells": [
  {
   "cell_type": "code",
   "execution_count": 1,
   "id": "558ec648",
   "metadata": {},
   "outputs": [
    {
     "data": {
      "text/plain": [
       "dict_keys(['data', 'target', 'feature_names', 'DESCR', 'filename'])"
      ]
     },
     "execution_count": 1,
     "metadata": {},
     "output_type": "execute_result"
    }
   ],
   "source": [
    "from sklearn.datasets import load_boston\n",
    "import matplotlib.pyplot as plt\n",
    "import numpy as np\n",
    "\n",
    "boston = load_boston()\n",
    "boston.keys()"
   ]
  },
  {
   "cell_type": "code",
   "execution_count": 2,
   "id": "e75170a6",
   "metadata": {},
   "outputs": [
    {
     "data": {
      "text/plain": [
       "array([[6.3200e-03, 1.8000e+01, 2.3100e+00, ..., 1.5300e+01, 3.9690e+02,\n",
       "        4.9800e+00],\n",
       "       [2.7310e-02, 0.0000e+00, 7.0700e+00, ..., 1.7800e+01, 3.9690e+02,\n",
       "        9.1400e+00],\n",
       "       [2.7290e-02, 0.0000e+00, 7.0700e+00, ..., 1.7800e+01, 3.9283e+02,\n",
       "        4.0300e+00],\n",
       "       ...,\n",
       "       [6.0760e-02, 0.0000e+00, 1.1930e+01, ..., 2.1000e+01, 3.9690e+02,\n",
       "        5.6400e+00],\n",
       "       [1.0959e-01, 0.0000e+00, 1.1930e+01, ..., 2.1000e+01, 3.9345e+02,\n",
       "        6.4800e+00],\n",
       "       [4.7410e-02, 0.0000e+00, 1.1930e+01, ..., 2.1000e+01, 3.9690e+02,\n",
       "        7.8800e+00]])"
      ]
     },
     "execution_count": 2,
     "metadata": {},
     "output_type": "execute_result"
    }
   ],
   "source": [
    "boston[\"data\"]"
   ]
  },
  {
   "cell_type": "code",
   "execution_count": 3,
   "id": "0499f8bc",
   "metadata": {},
   "outputs": [
    {
     "data": {
      "text/plain": [
       "(506, 1)"
      ]
     },
     "execution_count": 3,
     "metadata": {},
     "output_type": "execute_result"
    }
   ],
   "source": [
    "x_data = boston.data\n",
    "y_data = boston.target.reshape(boston.target.size,1)\n",
    "y_data.shape # (506, 1)"
   ]
  },
  {
   "cell_type": "code",
   "execution_count": 4,
   "id": "3538dc51",
   "metadata": {},
   "outputs": [
    {
     "data": {
      "text/plain": [
       "array([[0.00000000e+00, 9.00000000e-01, 3.39076246e-01, 0.00000000e+00,\n",
       "        1.57407407e+00, 2.88752635e+00, 3.20803296e+00, 1.34601570e+00,\n",
       "        0.00000000e+00, 1.04007634e+00, 1.43617021e+00, 5.00000000e+00,\n",
       "        4.48399558e-01],\n",
       "       [1.17961270e-03, 0.00000000e+00, 1.21151026e+00, 0.00000000e+00,\n",
       "        8.64197531e-01, 2.73998850e+00, 3.91349125e+00, 1.74480990e+00,\n",
       "        2.17391304e-01, 5.24809160e-01, 2.76595745e+00, 5.00000000e+00,\n",
       "        1.02235099e+00],\n",
       "       [1.17848872e-03, 0.00000000e+00, 1.21151026e+00, 0.00000000e+00,\n",
       "        8.64197531e-01, 3.47192949e+00, 2.99691040e+00, 1.74480990e+00,\n",
       "        2.17391304e-01, 5.24809160e-01, 2.76595745e+00, 4.94868627e+00,\n",
       "        3.17328918e-01]])"
      ]
     },
     "execution_count": 4,
     "metadata": {},
     "output_type": "execute_result"
    }
   ],
   "source": [
    "from sklearn import preprocessing\n",
    "\n",
    "minmax_scale = preprocessing.MinMaxScaler(feature_range=(0,5)).fit(x_data) # (1)\n",
    "x_scaled_data = minmax_scale.transform(x_data) # (2)\n",
    "\n",
    "x_scaled_data[:3] "
   ]
  },
  {
   "cell_type": "code",
   "execution_count": 5,
   "id": "0ffeb63e",
   "metadata": {},
   "outputs": [
    {
     "data": {
      "text/plain": [
       "((339, 13), (167, 13), (339, 1), (167, 1))"
      ]
     },
     "execution_count": 5,
     "metadata": {},
     "output_type": "execute_result"
    }
   ],
   "source": [
    "from sklearn.model_selection import train_test_split\n",
    "\n",
    "X_train, X_test, y_train, y_test = train_test_split(x_scaled_data, y_data, test_size=0.33)\n",
    "# X 데이터의 학습 데이터셋, X 데이터의 테스트 데이터셋\n",
    "# Y 데이터의 학습 데이터셋, Y 데이터의 테스트 데이터셋\n",
    "\n",
    "X_train.shape, X_test.shape, y_train.shape, y_test.shape\n",
    "# ((339, 13), (167, 13), (339, 1), (167, 1))"
   ]
  },
  {
   "cell_type": "code",
   "execution_count": 6,
   "id": "edc2afae",
   "metadata": {},
   "outputs": [],
   "source": [
    "from sklearn import  linear_model\n",
    "\n",
    "regr = linear_model.LinearRegression(\n",
    "         fit_intercept=True,normalize=False,copy_X=True, n_jobs=8)\n",
    "lasso_regr = linear_model.Lasso(\n",
    "         alpha=0.01, fit_intercept=True,normalize=False,copy_X=True)\n",
    "ridge_regr = linear_model.Ridge(\n",
    "         alpha=0.01, fit_intercept=True,normalize=False,copy_X=True)\n",
    "SGD__regr = linear_model.SGDRegressor(penalty=\"l2\", alpha=0.01, \n",
    "                                      max_iter=1000, tol=0.001, eta0=0.01)"
   ]
  },
  {
   "cell_type": "code",
   "execution_count": 7,
   "id": "7e1683e3",
   "metadata": {},
   "outputs": [
    {
     "data": {
      "text/plain": [
       "LinearRegression(n_jobs=8)"
      ]
     },
     "execution_count": 7,
     "metadata": {},
     "output_type": "execute_result"
    }
   ],
   "source": [
    "regr.fit(X_train, y_train) "
   ]
  },
  {
   "cell_type": "code",
   "execution_count": 8,
   "id": "4a0b993e",
   "metadata": {},
   "outputs": [
    {
     "name": "stdout",
     "output_type": "stream",
     "text": [
      "Coefficients:  [[-2.86129759  0.27632862  0.10322333  0.33532791 -1.89104482  3.55479622\n",
      "  -0.04952964 -3.01015804  1.22330686 -1.00916771 -1.98466467  0.62386235\n",
      "  -3.9996908 ]]\n",
      "intercept:  [29.42877381]\n"
     ]
    }
   ],
   "source": [
    "print('Coefficients: ', regr.coef_)\n",
    "print('intercept: ', regr.intercept_)"
   ]
  },
  {
   "cell_type": "code",
   "execution_count": 9,
   "id": "8256bc89",
   "metadata": {},
   "outputs": [
    {
     "data": {
      "text/plain": [
       "array([[-58.72562452],\n",
       "       [-32.88598964],\n",
       "       [-11.38914021],\n",
       "       [ 10.01207448],\n",
       "       [  1.87764423]])"
      ]
     },
     "execution_count": 9,
     "metadata": {},
     "output_type": "execute_result"
    }
   ],
   "source": [
    "regr.predict(x_data[:5])"
   ]
  },
  {
   "cell_type": "code",
   "execution_count": 10,
   "id": "764dfa07",
   "metadata": {},
   "outputs": [
    {
     "data": {
      "text/plain": [
       "array([[-58.72562452],\n",
       "       [-32.88598964],\n",
       "       [-11.38914021],\n",
       "       [ 10.01207448],\n",
       "       [  1.87764423]])"
      ]
     },
     "execution_count": 10,
     "metadata": {},
     "output_type": "execute_result"
    }
   ],
   "source": [
    "x_data[:5].dot(regr.coef_.T) + regr.intercept_"
   ]
  },
  {
   "cell_type": "code",
   "execution_count": 11,
   "id": "cb747d41",
   "metadata": {},
   "outputs": [
    {
     "data": {
      "text/plain": [
       "(0.7012192205071575, 3.6874625281998266, 28.869826251555843)"
      ]
     },
     "execution_count": 11,
     "metadata": {},
     "output_type": "execute_result"
    }
   ],
   "source": [
    "from sklearn.metrics import r2_score\n",
    "from sklearn.metrics import mean_absolute_error\n",
    "from sklearn.metrics import mean_squared_error\n",
    "\n",
    "y_true = y_test.copy()\n",
    "y_hat = regr.predict(X_test)\n",
    "\n",
    "r2_score(y_true, y_hat), mean_absolute_error(y_true, y_hat), mean_squared_error(y_true, y_hat)"
   ]
  },
  {
   "cell_type": "code",
   "execution_count": 12,
   "id": "fb9aee66",
   "metadata": {},
   "outputs": [
    {
     "data": {
      "text/plain": [
       "Text(0.5, 1.0, 'Prices vs Predicted prices: $Y_i$ vs $\\\\hat{Y}_i$')"
      ]
     },
     "execution_count": 12,
     "metadata": {},
     "output_type": "execute_result"
    },
    {
     "data": {
      "image/png": "[encoded data removed]",
      "text/plain": [
       "<Figure size 432x288 with 1 Axes>"
      ]
     },
     "metadata": {
      "needs_background": "light"
     },
     "output_type": "display_data"
    }
   ],
   "source": [
    "plt.scatter(y_true, y_hat, s=10)\n",
    "plt.xlabel(\"Prices: $Y_i$\")\n",
    "plt.ylabel(\"Predicted prices: $\\hat{Y}_i$\")\n",
    "plt.title(\"Prices vs Predicted prices: $Y_i$ vs $\\hat{Y}_i$\")"
   ]
  },
  {
   "cell_type": "code",
   "execution_count": null,
   "id": "91b090d9",
   "metadata": {},
   "outputs": [],
   "source": []
  }
 ],
 "metadata": {
  "kernelspec": {
   "display_name": "Python 3",
   "language": "python",
   "name": "python3"
  },
  "language_info": {
   "codemirror_mode": {
    "name": "ipython",
    "version": 3
   },
   "file_extension": ".py",
   "mimetype": "text/x-python",
   "name": "python",
   "nbconvert_exporter": "python",
   "pygments_lexer": "ipython3",
   "version": "3.9.5"
  }
 },
 "nbformat": 4,
 "nbformat_minor": 5
}
